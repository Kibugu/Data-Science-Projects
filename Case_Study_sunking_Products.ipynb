{
  "nbformat": 4,
  "nbformat_minor": 0,
  "metadata": {
    "colab": {
      "name": "Case Study - sunking Products.ipynb",
      "provenance": [],
      "collapsed_sections": [],
      "authorship_tag": "ABX9TyOpmUUM6CpitYj1qGYhVJwa",
      "include_colab_link": true
    },
    "kernelspec": {
      "name": "python3",
      "display_name": "Python 3"
    }
  },
  "cells": [
    {
      "cell_type": "markdown",
      "metadata": {
        "id": "view-in-github",
        "colab_type": "text"
      },
      "source": [
        "<a href=\"https://colab.research.google.com/github/Kibugu/Data-Science-Projects/blob/master/Case_Study_sunking_Products.ipynb\" target=\"_parent\"><img src=\"https://colab.research.google.com/assets/colab-badge.svg\" alt=\"Open In Colab\"/></a>"
      ]
    },
    {
      "cell_type": "markdown",
      "metadata": {
        "id": "yw9KiyHF_qrI"
      },
      "source": [
        "# <font color = yellow /> CASE STUDY OF SUNKING PRODUCT IN KENYA:  ![sunkinglogo.png](data:image/png;base64,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)"
      ]
    },
    {
      "cell_type": "markdown",
      "metadata": {
        "id": "EYp6MITcDXgm"
      },
      "source": [
        "#<font color = blue /> 1.1 Data Manipulation"
      ]
    },
    {
      "cell_type": "markdown",
      "metadata": {
        "id": "JF7iCE91EjxQ"
      },
      "source": [
        "On this section we are going to ingest data into the system. I adopted this approach as when we have a huge data that is above 100,000  the excel manipulation of data is slow and not ideal for big data analysis."
      ]
    },
    {
      "cell_type": "code",
      "metadata": {
        "id": "6-3_8F9zEicd"
      },
      "source": [
        "# importing necessary libraries for ingesting data.\n",
        "import numpy as np \n",
        "import pandas as pd\n",
        "import glob\n",
        "import matplotlib.pyplot as plt\n",
        "import seaborn"
      ],
      "execution_count": 4,
      "outputs": []
    },
    {
      "cell_type": "code",
      "metadata": {
        "id": "gpRHsrQGEiTc"
      },
      "source": [
        "# ingest data \n",
        "dfusers= pd.read_csv('users.csv')\n",
        "dfinve=pd.read_csv(\"inventory.csv\")\n",
        "df2qsales=pd.read_csv(\"sales_2q20.csv\")\n",
        "df3qsales=pd.read_csv(\"sales_3q20.csv\")"
      ],
      "execution_count": 8,
      "outputs": []
    },
    {
      "cell_type": "markdown",
      "metadata": {
        "id": "8NVx7Fw2BCrO"
      },
      "source": [
        "#<font color = blue /> 1.2 Exporatory Data Analysis (EDA):"
      ]
    },
    {
      "cell_type": "markdown",
      "metadata": {
        "id": "fS1LtmpWDQJI"
      },
      "source": [
        "### *In this Section we are going to do basic descriptive statistics and get to understand our data based on the attributes that the data has and compare as see what stand out interms of growth and performance on different areas and products under the different segment.*"
      ]
    },
    {
      "cell_type": "markdown",
      "metadata": {
        "id": "j1MD9FU3BWbX"
      },
      "source": [
        "## <font color = blue /> 1.2.1 Users and region:"
      ]
    },
    {
      "cell_type": "code",
      "metadata": {
        "id": "YSe8qmzTIizr"
      },
      "source": [
        "# view the first 5 rows.\n",
        "dfusers.head()\n",
        "dfusers=dfusers[['user_id','user_type']]"
      ],
      "execution_count": 9,
      "outputs": []
    },
    {
      "cell_type": "code",
      "metadata": {
        "id": "6r20Ny81JSKI",
        "outputId": "f4aa4b13-9236-432f-cd45-860df41456bf",
        "colab": {
          "base_uri": "https://localhost:8080/",
          "height": 297
        }
      },
      "source": [
        "# this gives the count of users in the following sheet.\n",
        "dfusers.describe()"
      ],
      "execution_count": 10,
      "outputs": [
        {
          "output_type": "execute_result",
          "data": {
            "text/html": [
              "<div>\n",
              "<style scoped>\n",
              "    .dataframe tbody tr th:only-of-type {\n",
              "        vertical-align: middle;\n",
              "    }\n",
              "\n",
              "    .dataframe tbody tr th {\n",
              "        vertical-align: top;\n",
              "    }\n",
              "\n",
              "    .dataframe thead th {\n",
              "        text-align: right;\n",
              "    }\n",
              "</style>\n",
              "<table border=\"1\" class=\"dataframe\">\n",
              "  <thead>\n",
              "    <tr style=\"text-align: right;\">\n",
              "      <th></th>\n",
              "      <th>user_id</th>\n",
              "    </tr>\n",
              "  </thead>\n",
              "  <tbody>\n",
              "    <tr>\n",
              "      <th>count</th>\n",
              "      <td>10104.000000</td>\n",
              "    </tr>\n",
              "    <tr>\n",
              "      <th>mean</th>\n",
              "      <td>5052.500000</td>\n",
              "    </tr>\n",
              "    <tr>\n",
              "      <th>std</th>\n",
              "      <td>2916.917894</td>\n",
              "    </tr>\n",
              "    <tr>\n",
              "      <th>min</th>\n",
              "      <td>1.000000</td>\n",
              "    </tr>\n",
              "    <tr>\n",
              "      <th>25%</th>\n",
              "      <td>2526.750000</td>\n",
              "    </tr>\n",
              "    <tr>\n",
              "      <th>50%</th>\n",
              "      <td>5052.500000</td>\n",
              "    </tr>\n",
              "    <tr>\n",
              "      <th>75%</th>\n",
              "      <td>7578.250000</td>\n",
              "    </tr>\n",
              "    <tr>\n",
              "      <th>max</th>\n",
              "      <td>10104.000000</td>\n",
              "    </tr>\n",
              "  </tbody>\n",
              "</table>\n",
              "</div>"
            ],
            "text/plain": [
              "            user_id\n",
              "count  10104.000000\n",
              "mean    5052.500000\n",
              "std     2916.917894\n",
              "min        1.000000\n",
              "25%     2526.750000\n",
              "50%     5052.500000\n",
              "75%     7578.250000\n",
              "max    10104.000000"
            ]
          },
          "metadata": {
            "tags": []
          },
          "execution_count": 10
        }
      ]
    },
    {
      "cell_type": "code",
      "metadata": {
        "id": "04IoNOBAPeRb",
        "outputId": "fef0d0a5-7905-4b5e-ca2a-ba77964a3bc6",
        "colab": {
          "base_uri": "https://localhost:8080/",
          "height": 68
        }
      },
      "source": [
        "# Checking on missing nos\n",
        "dfusers.isnull().sum()"
      ],
      "execution_count": 11,
      "outputs": [
        {
          "output_type": "execute_result",
          "data": {
            "text/plain": [
              "user_id      0\n",
              "user_type    0\n",
              "dtype: int64"
            ]
          },
          "metadata": {
            "tags": []
          },
          "execution_count": 11
        }
      ]
    },
    {
      "cell_type": "code",
      "metadata": {
        "id": "8H1agbDpJmEq",
        "outputId": "85289e77-4b6c-4d87-f7ed-033ad2c202c9",
        "colab": {
          "base_uri": "https://localhost:8080/",
          "height": 85
        }
      },
      "source": [
        "dfusers.groupby(\"user_type\")[\"user_id\"].count()"
      ],
      "execution_count": 12,
      "outputs": [
        {
          "output_type": "execute_result",
          "data": {
            "text/plain": [
              "user_type\n",
              "Agent     10019\n",
              "Retail       85\n",
              "Name: user_id, dtype: int64"
            ]
          },
          "metadata": {
            "tags": []
          },
          "execution_count": 12
        }
      ]
    },
    {
      "cell_type": "code",
      "metadata": {
        "id": "4n_snPJCJ9pK",
        "outputId": "db06a47d-5134-4033-a9a2-1c196398ee53",
        "colab": {
          "base_uri": "https://localhost:8080/",
          "height": 319
        }
      },
      "source": [
        "dfusers.groupby(\"user_type\")[\"user_id\"].count().plot.pie(figsize=(5,5),\n",
        "                                                        startangle=90, autopct='%.1f%%',\n",
        "                                                        title =\"User Type \");"
      ],
      "execution_count": 13,
      "outputs": [
        {
          "output_type": "display_data",
          "data": {
            "image/png": "[encoded data removed]",
            "text/plain": [
              "<Figure size 360x360 with 1 Axes>"
            ]
          },
          "metadata": {
            "tags": []
          }
        }
      ]
    },
    {
      "cell_type": "markdown",
      "metadata": {
        "id": "BvutHhsxBmmX"
      },
      "source": [
        "##<font color = blue /> 1.2.2 - Inventory:"
      ]
    },
    {
      "cell_type": "code",
      "metadata": {
        "id": "BGk30HG9K9wL",
        "outputId": "85b81271-8ecc-42b7-b89d-d07d3d39813d",
        "colab": {
          "base_uri": "https://localhost:8080/",
          "height": 204
        }
      },
      "source": [
        "dfinve.head()"
      ],
      "execution_count": 14,
      "outputs": [
        {
          "output_type": "execute_result",
          "data": {
            "text/html": [
              "<div>\n",
              "<style scoped>\n",
              "    .dataframe tbody tr th:only-of-type {\n",
              "        vertical-align: middle;\n",
              "    }\n",
              "\n",
              "    .dataframe tbody tr th {\n",
              "        vertical-align: top;\n",
              "    }\n",
              "\n",
              "    .dataframe thead th {\n",
              "        text-align: right;\n",
              "    }\n",
              "</style>\n",
              "<table border=\"1\" class=\"dataframe\">\n",
              "  <thead>\n",
              "    <tr style=\"text-align: right;\">\n",
              "      <th></th>\n",
              "      <th>user_id</th>\n",
              "      <th>product_name</th>\n",
              "      <th>account_number</th>\n",
              "      <th>stock_status</th>\n",
              "      <th>days_held</th>\n",
              "    </tr>\n",
              "  </thead>\n",
              "  <tbody>\n",
              "    <tr>\n",
              "      <th>0</th>\n",
              "      <td>18</td>\n",
              "      <td>SKU A</td>\n",
              "      <td>11603</td>\n",
              "      <td>In Stock</td>\n",
              "      <td>0</td>\n",
              "    </tr>\n",
              "    <tr>\n",
              "      <th>1</th>\n",
              "      <td>33</td>\n",
              "      <td>SKU A</td>\n",
              "      <td>9798</td>\n",
              "      <td>In Stock</td>\n",
              "      <td>0</td>\n",
              "    </tr>\n",
              "    <tr>\n",
              "      <th>2</th>\n",
              "      <td>44</td>\n",
              "      <td>SKU A</td>\n",
              "      <td>9518</td>\n",
              "      <td>In Stock</td>\n",
              "      <td>0</td>\n",
              "    </tr>\n",
              "    <tr>\n",
              "      <th>3</th>\n",
              "      <td>64</td>\n",
              "      <td>SKU C</td>\n",
              "      <td>11350</td>\n",
              "      <td>In Stock</td>\n",
              "      <td>0</td>\n",
              "    </tr>\n",
              "    <tr>\n",
              "      <th>4</th>\n",
              "      <td>95</td>\n",
              "      <td>SKU A</td>\n",
              "      <td>848</td>\n",
              "      <td>In Stock</td>\n",
              "      <td>0</td>\n",
              "    </tr>\n",
              "  </tbody>\n",
              "</table>\n",
              "</div>"
            ],
            "text/plain": [
              "   user_id product_name  account_number stock_status  days_held\n",
              "0       18        SKU A           11603     In Stock          0\n",
              "1       33        SKU A            9798     In Stock          0\n",
              "2       44        SKU A            9518     In Stock          0\n",
              "3       64        SKU C           11350     In Stock          0\n",
              "4       95        SKU A             848     In Stock          0"
            ]
          },
          "metadata": {
            "tags": []
          },
          "execution_count": 14
        }
      ]
    },
    {
      "cell_type": "code",
      "metadata": {
        "id": "nP0lTE3WMwTy",
        "outputId": "2dcd012b-4591-4df9-d7b6-f14e32b5e575",
        "colab": {
          "base_uri": "https://localhost:8080/",
          "height": 34
        }
      },
      "source": [
        "# The categorisation of stock status:\n",
        "dfinve['stock_status'].nunique()"
      ],
      "execution_count": 15,
      "outputs": [
        {
          "output_type": "execute_result",
          "data": {
            "text/plain": [
              "1"
            ]
          },
          "metadata": {
            "tags": []
          },
          "execution_count": 15
        }
      ]
    },
    {
      "cell_type": "code",
      "metadata": {
        "id": "0ttsO75-LjuV",
        "outputId": "451c7aba-5705-493f-88f4-3443b6a6f78b",
        "colab": {
          "base_uri": "https://localhost:8080/",
          "height": 297
        }
      },
      "source": [
        "dfinve.describe()"
      ],
      "execution_count": 16,
      "outputs": [
        {
          "output_type": "execute_result",
          "data": {
            "text/html": [
              "<div>\n",
              "<style scoped>\n",
              "    .dataframe tbody tr th:only-of-type {\n",
              "        vertical-align: middle;\n",
              "    }\n",
              "\n",
              "    .dataframe tbody tr th {\n",
              "        vertical-align: top;\n",
              "    }\n",
              "\n",
              "    .dataframe thead th {\n",
              "        text-align: right;\n",
              "    }\n",
              "</style>\n",
              "<table border=\"1\" class=\"dataframe\">\n",
              "  <thead>\n",
              "    <tr style=\"text-align: right;\">\n",
              "      <th></th>\n",
              "      <th>user_id</th>\n",
              "      <th>account_number</th>\n",
              "      <th>days_held</th>\n",
              "    </tr>\n",
              "  </thead>\n",
              "  <tbody>\n",
              "    <tr>\n",
              "      <th>count</th>\n",
              "      <td>24807.000000</td>\n",
              "      <td>24807.000000</td>\n",
              "      <td>24807.000000</td>\n",
              "    </tr>\n",
              "    <tr>\n",
              "      <th>mean</th>\n",
              "      <td>5095.051961</td>\n",
              "      <td>6162.585036</td>\n",
              "      <td>139.408635</td>\n",
              "    </tr>\n",
              "    <tr>\n",
              "      <th>std</th>\n",
              "      <td>2905.800590</td>\n",
              "      <td>3560.579700</td>\n",
              "      <td>136.814228</td>\n",
              "    </tr>\n",
              "    <tr>\n",
              "      <th>min</th>\n",
              "      <td>1.000000</td>\n",
              "      <td>1.000000</td>\n",
              "      <td>0.000000</td>\n",
              "    </tr>\n",
              "    <tr>\n",
              "      <th>25%</th>\n",
              "      <td>2600.500000</td>\n",
              "      <td>3101.000000</td>\n",
              "      <td>28.000000</td>\n",
              "    </tr>\n",
              "    <tr>\n",
              "      <th>50%</th>\n",
              "      <td>5117.000000</td>\n",
              "      <td>6143.000000</td>\n",
              "      <td>91.000000</td>\n",
              "    </tr>\n",
              "    <tr>\n",
              "      <th>75%</th>\n",
              "      <td>7605.000000</td>\n",
              "      <td>9246.000000</td>\n",
              "      <td>222.000000</td>\n",
              "    </tr>\n",
              "    <tr>\n",
              "      <th>max</th>\n",
              "      <td>10104.000000</td>\n",
              "      <td>12345.000000</td>\n",
              "      <td>565.000000</td>\n",
              "    </tr>\n",
              "  </tbody>\n",
              "</table>\n",
              "</div>"
            ],
            "text/plain": [
              "            user_id  account_number     days_held\n",
              "count  24807.000000    24807.000000  24807.000000\n",
              "mean    5095.051961     6162.585036    139.408635\n",
              "std     2905.800590     3560.579700    136.814228\n",
              "min        1.000000        1.000000      0.000000\n",
              "25%     2600.500000     3101.000000     28.000000\n",
              "50%     5117.000000     6143.000000     91.000000\n",
              "75%     7605.000000     9246.000000    222.000000\n",
              "max    10104.000000    12345.000000    565.000000"
            ]
          },
          "metadata": {
            "tags": []
          },
          "execution_count": 16
        }
      ]
    },
    {
      "cell_type": "code",
      "metadata": {
        "id": "MgfLZ7LoPagb",
        "outputId": "61d2092e-d152-4280-9b25-7e8b17dd336a",
        "colab": {
          "base_uri": "https://localhost:8080/",
          "height": 119
        }
      },
      "source": [
        "# Checking on missing nos\n",
        "dfinve.isnull().sum()"
      ],
      "execution_count": 17,
      "outputs": [
        {
          "output_type": "execute_result",
          "data": {
            "text/plain": [
              "user_id           0\n",
              "product_name      0\n",
              "account_number    0\n",
              "stock_status      0\n",
              "days_held         0\n",
              "dtype: int64"
            ]
          },
          "metadata": {
            "tags": []
          },
          "execution_count": 17
        }
      ]
    },
    {
      "cell_type": "markdown",
      "metadata": {
        "id": "J0e8-VOW2Nq7"
      },
      "source": [
        "**We are analysing on average no of days per items in our warehouse based on the inventory report.**"
      ]
    },
    {
      "cell_type": "code",
      "metadata": {
        "id": "xgUmarWyLwYB",
        "outputId": "6be4cf22-93d9-48c2-9202-1304bfb036d8",
        "colab": {
          "base_uri": "https://localhost:8080/",
          "height": 136
        }
      },
      "source": [
        "dfinve.groupby('product_name')['days_held'].mean().sort_values(ascending = True)"
      ],
      "execution_count": 18,
      "outputs": [
        {
          "output_type": "execute_result",
          "data": {
            "text/plain": [
              "product_name\n",
              "SKU C     18.083333\n",
              "SKU B    102.956076\n",
              "SKU A    107.793791\n",
              "SKU D    157.980365\n",
              "SKU E    180.729932\n",
              "Name: days_held, dtype: float64"
            ]
          },
          "metadata": {
            "tags": []
          },
          "execution_count": 18
        }
      ]
    },
    {
      "cell_type": "code",
      "metadata": {
        "id": "KUYkeFnbMap3",
        "outputId": "078ad5de-d8c0-4054-dc02-f75f26c9d1ad",
        "colab": {
          "base_uri": "https://localhost:8080/",
          "height": 319
        }
      },
      "source": [
        "dfinve.groupby('product_name')['days_held'].mean().plot.pie( figsize=(5,5), \n",
        "                                                            autopct='%0.1f%%',\n",
        "                                                            title = \"Average no of Days held\");"
      ],
      "execution_count": 32,
      "outputs": [
        {
          "output_type": "display_data",
          "data": {
            "image/png": "[encoded data removed]",
            "text/plain": [
              "<Figure size 360x360 with 1 Axes>"
            ]
          },
          "metadata": {
            "tags": []
          }
        }
      ]
    },
    {
      "cell_type": "markdown",
      "metadata": {
        "id": "93pDfiAN2wSw"
      },
      "source": [
        "### <font color = brown/> Observations on Inventory on days held.\n",
        "**Based in the above data we can see that on averaged on chronological order. The fast moving products is SKU C which oon average the no of days held was 18 days and the item that we can categorise as a dead stock is SKU - E has the highest no of days with average of 180 days in storage.**"
      ]
    },
    {
      "cell_type": "markdown",
      "metadata": {
        "id": "gpfEgKhH03pf"
      },
      "source": [
        "Based on the data provided we have categorised the data based on 2 categories.\n",
        "- The no of sold items ( days held = 0)\n",
        "- The items available for sales."
      ]
    },
    {
      "cell_type": "code",
      "metadata": {
        "id": "-Ps_Guug0bEq"
      },
      "source": [
        "dfsold=dfinve[dfinve.days_held==0]"
      ],
      "execution_count": 81,
      "outputs": []
    },
    {
      "cell_type": "code",
      "metadata": {
        "id": "dR3FTDPA6fvV",
        "outputId": "d6c60083-54e5-4249-efa7-8b86c4052910",
        "colab": {
          "base_uri": "https://localhost:8080/",
          "height": 204
        }
      },
      "source": [
        "dfsold.head()"
      ],
      "execution_count": 82,
      "outputs": [
        {
          "output_type": "execute_result",
          "data": {
            "text/html": [
              "<div>\n",
              "<style scoped>\n",
              "    .dataframe tbody tr th:only-of-type {\n",
              "        vertical-align: middle;\n",
              "    }\n",
              "\n",
              "    .dataframe tbody tr th {\n",
              "        vertical-align: top;\n",
              "    }\n",
              "\n",
              "    .dataframe thead th {\n",
              "        text-align: right;\n",
              "    }\n",
              "</style>\n",
              "<table border=\"1\" class=\"dataframe\">\n",
              "  <thead>\n",
              "    <tr style=\"text-align: right;\">\n",
              "      <th></th>\n",
              "      <th>user_id</th>\n",
              "      <th>product_name</th>\n",
              "      <th>account_number</th>\n",
              "      <th>stock_status</th>\n",
              "      <th>days_held</th>\n",
              "    </tr>\n",
              "  </thead>\n",
              "  <tbody>\n",
              "    <tr>\n",
              "      <th>0</th>\n",
              "      <td>18</td>\n",
              "      <td>SKU A</td>\n",
              "      <td>11603</td>\n",
              "      <td>In Stock</td>\n",
              "      <td>0</td>\n",
              "    </tr>\n",
              "    <tr>\n",
              "      <th>1</th>\n",
              "      <td>33</td>\n",
              "      <td>SKU A</td>\n",
              "      <td>9798</td>\n",
              "      <td>In Stock</td>\n",
              "      <td>0</td>\n",
              "    </tr>\n",
              "    <tr>\n",
              "      <th>2</th>\n",
              "      <td>44</td>\n",
              "      <td>SKU A</td>\n",
              "      <td>9518</td>\n",
              "      <td>In Stock</td>\n",
              "      <td>0</td>\n",
              "    </tr>\n",
              "    <tr>\n",
              "      <th>3</th>\n",
              "      <td>64</td>\n",
              "      <td>SKU C</td>\n",
              "      <td>11350</td>\n",
              "      <td>In Stock</td>\n",
              "      <td>0</td>\n",
              "    </tr>\n",
              "    <tr>\n",
              "      <th>4</th>\n",
              "      <td>95</td>\n",
              "      <td>SKU A</td>\n",
              "      <td>848</td>\n",
              "      <td>In Stock</td>\n",
              "      <td>0</td>\n",
              "    </tr>\n",
              "  </tbody>\n",
              "</table>\n",
              "</div>"
            ],
            "text/plain": [
              "   user_id product_name  account_number stock_status  days_held\n",
              "0       18        SKU A           11603     In Stock          0\n",
              "1       33        SKU A            9798     In Stock          0\n",
              "2       44        SKU A            9518     In Stock          0\n",
              "3       64        SKU C           11350     In Stock          0\n",
              "4       95        SKU A             848     In Stock          0"
            ]
          },
          "metadata": {
            "tags": []
          },
          "execution_count": 82
        }
      ]
    },
    {
      "cell_type": "code",
      "metadata": {
        "id": "ViOpVDRy5oM_"
      },
      "source": [
        "dfplan=dfinve[dfinve.days_held > 0]"
      ],
      "execution_count": 83,
      "outputs": []
    },
    {
      "cell_type": "code",
      "metadata": {
        "id": "eZq-4uGQ5_kJ",
        "outputId": "9591023a-b0e7-4f9a-91c0-8a8e04ea0e48",
        "colab": {
          "base_uri": "https://localhost:8080/",
          "height": 204
        }
      },
      "source": [
        "dfplan.head()"
      ],
      "execution_count": 84,
      "outputs": [
        {
          "output_type": "execute_result",
          "data": {
            "text/html": [
              "<div>\n",
              "<style scoped>\n",
              "    .dataframe tbody tr th:only-of-type {\n",
              "        vertical-align: middle;\n",
              "    }\n",
              "\n",
              "    .dataframe tbody tr th {\n",
              "        vertical-align: top;\n",
              "    }\n",
              "\n",
              "    .dataframe thead th {\n",
              "        text-align: right;\n",
              "    }\n",
              "</style>\n",
              "<table border=\"1\" class=\"dataframe\">\n",
              "  <thead>\n",
              "    <tr style=\"text-align: right;\">\n",
              "      <th></th>\n",
              "      <th>user_id</th>\n",
              "      <th>product_name</th>\n",
              "      <th>account_number</th>\n",
              "      <th>stock_status</th>\n",
              "      <th>days_held</th>\n",
              "    </tr>\n",
              "  </thead>\n",
              "  <tbody>\n",
              "    <tr>\n",
              "      <th>666</th>\n",
              "      <td>34</td>\n",
              "      <td>SKU A</td>\n",
              "      <td>9773</td>\n",
              "      <td>In Stock</td>\n",
              "      <td>1</td>\n",
              "    </tr>\n",
              "    <tr>\n",
              "      <th>667</th>\n",
              "      <td>35</td>\n",
              "      <td>SKU A</td>\n",
              "      <td>11596</td>\n",
              "      <td>In Stock</td>\n",
              "      <td>1</td>\n",
              "    </tr>\n",
              "    <tr>\n",
              "      <th>668</th>\n",
              "      <td>47</td>\n",
              "      <td>SKU A</td>\n",
              "      <td>7168</td>\n",
              "      <td>In Stock</td>\n",
              "      <td>1</td>\n",
              "    </tr>\n",
              "    <tr>\n",
              "      <th>669</th>\n",
              "      <td>52</td>\n",
              "      <td>SKU E</td>\n",
              "      <td>9595</td>\n",
              "      <td>In Stock</td>\n",
              "      <td>1</td>\n",
              "    </tr>\n",
              "    <tr>\n",
              "      <th>670</th>\n",
              "      <td>60</td>\n",
              "      <td>SKU D</td>\n",
              "      <td>8129</td>\n",
              "      <td>In Stock</td>\n",
              "      <td>1</td>\n",
              "    </tr>\n",
              "  </tbody>\n",
              "</table>\n",
              "</div>"
            ],
            "text/plain": [
              "     user_id product_name  account_number stock_status  days_held\n",
              "666       34        SKU A            9773     In Stock          1\n",
              "667       35        SKU A           11596     In Stock          1\n",
              "668       47        SKU A            7168     In Stock          1\n",
              "669       52        SKU E            9595     In Stock          1\n",
              "670       60        SKU D            8129     In Stock          1"
            ]
          },
          "metadata": {
            "tags": []
          },
          "execution_count": 84
        }
      ]
    },
    {
      "cell_type": "code",
      "metadata": {
        "id": "CiHQa_rG6yLL"
      },
      "source": [
        "df1=dfplan.groupby('product_name')['days_held'].count()"
      ],
      "execution_count": 85,
      "outputs": []
    },
    {
      "cell_type": "code",
      "metadata": {
        "id": "k2OzD8mW7GRk"
      },
      "source": [
        "df2=dfsold.groupby('product_name')['days_held'].count()"
      ],
      "execution_count": 86,
      "outputs": []
    },
    {
      "cell_type": "code",
      "metadata": {
        "id": "9rWW7LZ17QXw"
      },
      "source": [
        "df1 = pd.DataFrame(df1)\n",
        "df2= pd.DataFrame(df2)\n",
        "dfsoldvsplan=df1.merge(df2,on='product_name')"
      ],
      "execution_count": 87,
      "outputs": []
    },
    {
      "cell_type": "code",
      "metadata": {
        "id": "PdbLIM02Bh3W",
        "outputId": "121af31b-6d0f-4160-c5ba-c4e594c332de",
        "colab": {
          "base_uri": "https://localhost:8080/",
          "height": 235
        }
      },
      "source": [
        "dfsoldvsplan"
      ],
      "execution_count": 88,
      "outputs": [
        {
          "output_type": "execute_result",
          "data": {
            "text/html": [
              "<div>\n",
              "<style scoped>\n",
              "    .dataframe tbody tr th:only-of-type {\n",
              "        vertical-align: middle;\n",
              "    }\n",
              "\n",
              "    .dataframe tbody tr th {\n",
              "        vertical-align: top;\n",
              "    }\n",
              "\n",
              "    .dataframe thead th {\n",
              "        text-align: right;\n",
              "    }\n",
              "</style>\n",
              "<table border=\"1\" class=\"dataframe\">\n",
              "  <thead>\n",
              "    <tr style=\"text-align: right;\">\n",
              "      <th></th>\n",
              "      <th>days_held_x</th>\n",
              "      <th>days_held_y</th>\n",
              "    </tr>\n",
              "    <tr>\n",
              "      <th>product_name</th>\n",
              "      <th></th>\n",
              "      <th></th>\n",
              "    </tr>\n",
              "  </thead>\n",
              "  <tbody>\n",
              "    <tr>\n",
              "      <th>SKU A</th>\n",
              "      <td>5020</td>\n",
              "      <td>295</td>\n",
              "    </tr>\n",
              "    <tr>\n",
              "      <th>SKU B</th>\n",
              "      <td>4023</td>\n",
              "      <td>75</td>\n",
              "    </tr>\n",
              "    <tr>\n",
              "      <th>SKU C</th>\n",
              "      <td>30</td>\n",
              "      <td>6</td>\n",
              "    </tr>\n",
              "    <tr>\n",
              "      <th>SKU D</th>\n",
              "      <td>13552</td>\n",
              "      <td>199</td>\n",
              "    </tr>\n",
              "    <tr>\n",
              "      <th>SKU E</th>\n",
              "      <td>1516</td>\n",
              "      <td>91</td>\n",
              "    </tr>\n",
              "  </tbody>\n",
              "</table>\n",
              "</div>"
            ],
            "text/plain": [
              "              days_held_x  days_held_y\n",
              "product_name                          \n",
              "SKU A                5020          295\n",
              "SKU B                4023           75\n",
              "SKU C                  30            6\n",
              "SKU D               13552          199\n",
              "SKU E                1516           91"
            ]
          },
          "metadata": {
            "tags": []
          },
          "execution_count": 88
        }
      ]
    },
    {
      "cell_type": "code",
      "metadata": {
        "id": "GQxnJGPsDGnK",
        "outputId": "13e96a13-64c5-4d20-e22e-35bfa96334b5",
        "colab": {
          "base_uri": "https://localhost:8080/",
          "height": 34
        }
      },
      "source": [
        "dfsoldvsplan.columns"
      ],
      "execution_count": 89,
      "outputs": [
        {
          "output_type": "execute_result",
          "data": {
            "text/plain": [
              "Index(['days_held_x', 'days_held_y'], dtype='object')"
            ]
          },
          "metadata": {
            "tags": []
          },
          "execution_count": 89
        }
      ]
    },
    {
      "cell_type": "code",
      "metadata": {
        "id": "yFC0eqWKDwYw"
      },
      "source": [
        "# rename the columns and introduce a new column on performance.\n",
        "dfsoldvsplan=dfsoldvsplan.rename(columns={\"days_held_x\": \"Items_available\", \"days_held_y\": \"Sold_items\"})"
      ],
      "execution_count": 93,
      "outputs": []
    },
    {
      "cell_type": "code",
      "metadata": {
        "id": "h1Qr4ifkB_S-"
      },
      "source": [
        "# rename the columns and introduce a new column on performance.\n",
        "dfsoldvsplan[\"% Performance\"]=dfsoldvsplan['Sold_items']/dfsoldvsplan['Items_available']*100"
      ],
      "execution_count": 96,
      "outputs": []
    },
    {
      "cell_type": "code",
      "metadata": {
        "id": "V5qeTpccCfjO",
        "outputId": "bb95bc16-c0c3-42b6-eb5f-141ae3dda77c",
        "colab": {
          "base_uri": "https://localhost:8080/",
          "height": 235
        }
      },
      "source": [
        "dfsoldvsplan.head()"
      ],
      "execution_count": 97,
      "outputs": [
        {
          "output_type": "execute_result",
          "data": {
            "text/html": [
              "<div>\n",
              "<style scoped>\n",
              "    .dataframe tbody tr th:only-of-type {\n",
              "        vertical-align: middle;\n",
              "    }\n",
              "\n",
              "    .dataframe tbody tr th {\n",
              "        vertical-align: top;\n",
              "    }\n",
              "\n",
              "    .dataframe thead th {\n",
              "        text-align: right;\n",
              "    }\n",
              "</style>\n",
              "<table border=\"1\" class=\"dataframe\">\n",
              "  <thead>\n",
              "    <tr style=\"text-align: right;\">\n",
              "      <th></th>\n",
              "      <th>Items_available</th>\n",
              "      <th>Sold_items</th>\n",
              "      <th>% Performance</th>\n",
              "    </tr>\n",
              "    <tr>\n",
              "      <th>product_name</th>\n",
              "      <th></th>\n",
              "      <th></th>\n",
              "      <th></th>\n",
              "    </tr>\n",
              "  </thead>\n",
              "  <tbody>\n",
              "    <tr>\n",
              "      <th>SKU A</th>\n",
              "      <td>5020</td>\n",
              "      <td>295</td>\n",
              "      <td>5.876494</td>\n",
              "    </tr>\n",
              "    <tr>\n",
              "      <th>SKU B</th>\n",
              "      <td>4023</td>\n",
              "      <td>75</td>\n",
              "      <td>1.864280</td>\n",
              "    </tr>\n",
              "    <tr>\n",
              "      <th>SKU C</th>\n",
              "      <td>30</td>\n",
              "      <td>6</td>\n",
              "      <td>20.000000</td>\n",
              "    </tr>\n",
              "    <tr>\n",
              "      <th>SKU D</th>\n",
              "      <td>13552</td>\n",
              "      <td>199</td>\n",
              "      <td>1.468418</td>\n",
              "    </tr>\n",
              "    <tr>\n",
              "      <th>SKU E</th>\n",
              "      <td>1516</td>\n",
              "      <td>91</td>\n",
              "      <td>6.002639</td>\n",
              "    </tr>\n",
              "  </tbody>\n",
              "</table>\n",
              "</div>"
            ],
            "text/plain": [
              "              Items_available  Sold_items  % Performance\n",
              "product_name                                            \n",
              "SKU A                    5020         295       5.876494\n",
              "SKU B                    4023          75       1.864280\n",
              "SKU C                      30           6      20.000000\n",
              "SKU D                   13552         199       1.468418\n",
              "SKU E                    1516          91       6.002639"
            ]
          },
          "metadata": {
            "tags": []
          },
          "execution_count": 97
        }
      ]
    },
    {
      "cell_type": "code",
      "metadata": {
        "id": "qGXR_5wREsYA",
        "outputId": "8c3d226e-074e-4ff0-cb93-ff110b7e8cb5",
        "colab": {
          "base_uri": "https://localhost:8080/",
          "height": 371
        }
      },
      "source": [
        "dfsoldvsplan.plot.bar(figsize=(10,5),\n",
        "                  title = \"Perfomance based on the items sold\",\n",
        "                  legend = True,\n",
        "                  label=True);"
      ],
      "execution_count": 104,
      "outputs": [
        {
          "output_type": "display_data",
          "data": {
            "image/png": "[encoded data removed]",
            "text/plain": [
              "<Figure size 720x360 with 1 Axes>"
            ]
          },
          "metadata": {
            "tags": [],
            "needs_background": "light"
          }
        }
      ]
    },
    {
      "cell_type": "markdown",
      "metadata": {
        "id": "rCC5avY_Bxs1"
      },
      "source": [
        "## <font color = blue /> 1.2.3 Sales Quarter 2 & 3:"
      ]
    },
    {
      "cell_type": "code",
      "metadata": {
        "id": "ospa-i9iNE9i",
        "outputId": "96b74c91-00af-4ba4-9956-b86f60c67c7c",
        "colab": {
          "base_uri": "https://localhost:8080/",
          "height": 204
        }
      },
      "source": [
        "# view the format of our data and columns\n",
        "df2qsales.head()\n"
      ],
      "execution_count": 47,
      "outputs": [
        {
          "output_type": "execute_result",
          "data": {
            "text/html": [
              "<div>\n",
              "<style scoped>\n",
              "    .dataframe tbody tr th:only-of-type {\n",
              "        vertical-align: middle;\n",
              "    }\n",
              "\n",
              "    .dataframe tbody tr th {\n",
              "        vertical-align: top;\n",
              "    }\n",
              "\n",
              "    .dataframe thead th {\n",
              "        text-align: right;\n",
              "    }\n",
              "</style>\n",
              "<table border=\"1\" class=\"dataframe\">\n",
              "  <thead>\n",
              "    <tr style=\"text-align: right;\">\n",
              "      <th></th>\n",
              "      <th>user_id</th>\n",
              "      <th>registration_date</th>\n",
              "      <th>month</th>\n",
              "      <th>account_number</th>\n",
              "      <th>Area</th>\n",
              "    </tr>\n",
              "  </thead>\n",
              "  <tbody>\n",
              "    <tr>\n",
              "      <th>0</th>\n",
              "      <td>1</td>\n",
              "      <td>24-06-20</td>\n",
              "      <td>6</td>\n",
              "      <td>94312253</td>\n",
              "      <td>Akala</td>\n",
              "    </tr>\n",
              "    <tr>\n",
              "      <th>1</th>\n",
              "      <td>1</td>\n",
              "      <td>18-06-20</td>\n",
              "      <td>6</td>\n",
              "      <td>93845755</td>\n",
              "      <td>Akala</td>\n",
              "    </tr>\n",
              "    <tr>\n",
              "      <th>2</th>\n",
              "      <td>1</td>\n",
              "      <td>14-06-20</td>\n",
              "      <td>6</td>\n",
              "      <td>50839658</td>\n",
              "      <td>Akala</td>\n",
              "    </tr>\n",
              "    <tr>\n",
              "      <th>3</th>\n",
              "      <td>1</td>\n",
              "      <td>11-06-20</td>\n",
              "      <td>6</td>\n",
              "      <td>73909669</td>\n",
              "      <td>Akala</td>\n",
              "    </tr>\n",
              "    <tr>\n",
              "      <th>4</th>\n",
              "      <td>1</td>\n",
              "      <td>07-06-20</td>\n",
              "      <td>6</td>\n",
              "      <td>65928327</td>\n",
              "      <td>Akala</td>\n",
              "    </tr>\n",
              "  </tbody>\n",
              "</table>\n",
              "</div>"
            ],
            "text/plain": [
              "   user_id registration_date  month  account_number   Area\n",
              "0        1          24-06-20      6        94312253  Akala\n",
              "1        1          18-06-20      6        93845755  Akala\n",
              "2        1          14-06-20      6        50839658  Akala\n",
              "3        1          11-06-20      6        73909669  Akala\n",
              "4        1          07-06-20      6        65928327  Akala"
            ]
          },
          "metadata": {
            "tags": []
          },
          "execution_count": 47
        }
      ]
    },
    {
      "cell_type": "code",
      "metadata": {
        "id": "_s7B4tITPKo9",
        "outputId": "ae7a482a-e3a1-40d8-9b98-a5343753596b",
        "colab": {
          "base_uri": "https://localhost:8080/",
          "height": 119
        }
      },
      "source": [
        "# Checking on missing nos\n",
        "df2qsales.isnull().sum()"
      ],
      "execution_count": 51,
      "outputs": [
        {
          "output_type": "execute_result",
          "data": {
            "text/plain": [
              "user_id              0\n",
              "registration_date    0\n",
              "month                0\n",
              "account_number       0\n",
              "Area                 0\n",
              "dtype: int64"
            ]
          },
          "metadata": {
            "tags": []
          },
          "execution_count": 51
        }
      ]
    },
    {
      "cell_type": "code",
      "metadata": {
        "id": "_E1mff2VNraP",
        "outputId": "23d4d3b2-c514-4529-acde-48fb6cece878",
        "colab": {
          "base_uri": "https://localhost:8080/",
          "height": 297
        }
      },
      "source": [
        "df2qsales.describe()"
      ],
      "execution_count": 48,
      "outputs": [
        {
          "output_type": "execute_result",
          "data": {
            "text/html": [
              "<div>\n",
              "<style scoped>\n",
              "    .dataframe tbody tr th:only-of-type {\n",
              "        vertical-align: middle;\n",
              "    }\n",
              "\n",
              "    .dataframe tbody tr th {\n",
              "        vertical-align: top;\n",
              "    }\n",
              "\n",
              "    .dataframe thead th {\n",
              "        text-align: right;\n",
              "    }\n",
              "</style>\n",
              "<table border=\"1\" class=\"dataframe\">\n",
              "  <thead>\n",
              "    <tr style=\"text-align: right;\">\n",
              "      <th></th>\n",
              "      <th>user_id</th>\n",
              "      <th>month</th>\n",
              "      <th>account_number</th>\n",
              "    </tr>\n",
              "  </thead>\n",
              "  <tbody>\n",
              "    <tr>\n",
              "      <th>count</th>\n",
              "      <td>123901.000000</td>\n",
              "      <td>123901.000000</td>\n",
              "      <td>1.239010e+05</td>\n",
              "    </tr>\n",
              "    <tr>\n",
              "      <th>mean</th>\n",
              "      <td>5028.780728</td>\n",
              "      <td>4.737557</td>\n",
              "      <td>5.107971e+07</td>\n",
              "    </tr>\n",
              "    <tr>\n",
              "      <th>std</th>\n",
              "      <td>2941.080646</td>\n",
              "      <td>0.788953</td>\n",
              "      <td>2.944943e+07</td>\n",
              "    </tr>\n",
              "    <tr>\n",
              "      <th>min</th>\n",
              "      <td>1.000000</td>\n",
              "      <td>4.000000</td>\n",
              "      <td>-9.174000e+03</td>\n",
              "    </tr>\n",
              "    <tr>\n",
              "      <th>25%</th>\n",
              "      <td>2468.000000</td>\n",
              "      <td>4.000000</td>\n",
              "      <td>1.861350e+07</td>\n",
              "    </tr>\n",
              "    <tr>\n",
              "      <th>50%</th>\n",
              "      <td>5012.000000</td>\n",
              "      <td>5.000000</td>\n",
              "      <td>4.958318e+07</td>\n",
              "    </tr>\n",
              "    <tr>\n",
              "      <th>75%</th>\n",
              "      <td>7568.000000</td>\n",
              "      <td>5.000000</td>\n",
              "      <td>7.360078e+07</td>\n",
              "    </tr>\n",
              "    <tr>\n",
              "      <th>max</th>\n",
              "      <td>10104.000000</td>\n",
              "      <td>6.000000</td>\n",
              "      <td>9.999108e+07</td>\n",
              "    </tr>\n",
              "  </tbody>\n",
              "</table>\n",
              "</div>"
            ],
            "text/plain": [
              "             user_id          month  account_number\n",
              "count  123901.000000  123901.000000    1.239010e+05\n",
              "mean     5028.780728       4.737557    5.107971e+07\n",
              "std      2941.080646       0.788953    2.944943e+07\n",
              "min         1.000000       4.000000   -9.174000e+03\n",
              "25%      2468.000000       4.000000    1.861350e+07\n",
              "50%      5012.000000       5.000000    4.958318e+07\n",
              "75%      7568.000000       5.000000    7.360078e+07\n",
              "max     10104.000000       6.000000    9.999108e+07"
            ]
          },
          "metadata": {
            "tags": []
          },
          "execution_count": 48
        }
      ]
    },
    {
      "cell_type": "markdown",
      "metadata": {
        "id": "ZGG-8OD3GQJp"
      },
      "source": [
        "**In this section we are going to look at the data interms of monthly production and the leading area of sales based on the above information.**\n",
        "\n"
      ]
    },
    {
      "cell_type": "code",
      "metadata": {
        "id": "-CS9Ja_4GPYJ",
        "outputId": "e86fec19-d164-4009-c7ad-0f6cdfd43463",
        "colab": {
          "base_uri": "https://localhost:8080/",
          "height": 346
        }
      },
      "source": [
        "df2qsales.groupby('month')['user_id'].count().plot.bar(figsize=(5,5),\n",
        "                                                       legend=False,\n",
        "                                                       title = \"Monthly sales per month\");"
      ],
      "execution_count": 228,
      "outputs": [
        {
          "output_type": "display_data",
          "data": {
            "image/png": "[encoded data removed]",
            "text/plain": [
              "<Figure size 360x360 with 1 Axes>"
            ]
          },
          "metadata": {
            "tags": [],
            "needs_background": "light"
          }
        }
      ]
    },
    {
      "cell_type": "code",
      "metadata": {
        "id": "aw5hV0ChS38M",
        "outputId": "e6ea6e2a-cab6-4324-e8c3-9e31daaa93a0",
        "colab": {
          "base_uri": "https://localhost:8080/",
          "height": 356
        }
      },
      "source": [
        "df3qsales.groupby('month')['user_id'].count().plot.bar(figsize=(10,5),\n",
        "                                                       legend=False,\n",
        "                                                       title = \"Monthly sales per month\");"
      ],
      "execution_count": 124,
      "outputs": [
        {
          "output_type": "display_data",
          "data": {
            "image/png": "[encoded data removed]",
            "text/plain": [
              "<Figure size 720x360 with 1 Axes>"
            ]
          },
          "metadata": {
            "tags": [],
            "needs_background": "light"
          }
        }
      ]
    },
    {
      "cell_type": "markdown",
      "metadata": {
        "id": "IjD4_5X1UmMr"
      },
      "source": [
        "**The Overall performance of sales based on Areas.**"
      ]
    },
    {
      "cell_type": "markdown",
      "metadata": {
        "id": "yRk0XJnCU6uc"
      },
      "source": [
        " - 2nd Quarter overall  performance on area that we serve."
      ]
    },
    {
      "cell_type": "code",
      "metadata": {
        "id": "8APAa-qejySZ",
        "outputId": "93409147-34b5-421f-a431-98e3c4cdaa65",
        "colab": {
          "base_uri": "https://localhost:8080/",
          "height": 238
        }
      },
      "source": [
        "df2qsales.groupby('Area')['user_id'].count()"
      ],
      "execution_count": 190,
      "outputs": [
        {
          "output_type": "execute_result",
          "data": {
            "text/plain": [
              "Area\n",
              "Akala           3541\n",
              "Bomet            494\n",
              "Bondo           4899\n",
              "Bungoma         4340\n",
              "Burnt Forest     562\n",
              "                ... \n",
              "Taita Taveta    1777\n",
              "Ukunda           475\n",
              "Vihiga          1544\n",
              "Webuye           422\n",
              "West Pokot      1955\n",
              "Name: user_id, Length: 68, dtype: int64"
            ]
          },
          "metadata": {
            "tags": []
          },
          "execution_count": 190
        }
      ]
    },
    {
      "cell_type": "code",
      "metadata": {
        "id": "peZ-rk0DVGA6",
        "outputId": "175d668a-435f-42e0-fdec-8c3c4f2ad7b2",
        "colab": {
          "base_uri": "https://localhost:8080/",
          "height": 425
        }
      },
      "source": [
        "df2qsales.groupby('Area')['user_id'].count().sort_values(ascending = True).plot.bar(figsize=(15,5),\n",
        "                                                       legend=False,\n",
        "                                                       title = \"Total sales per quarter\");"
      ],
      "execution_count": 191,
      "outputs": [
        {
          "output_type": "display_data",
          "data": {
            "image/png": "[encoded data removed]",
            "text/plain": [
              "<Figure size 1080x360 with 1 Axes>"
            ]
          },
          "metadata": {
            "tags": [],
            "needs_background": "light"
          }
        }
      ]
    },
    {
      "cell_type": "markdown",
      "metadata": {
        "id": "v1KIOEc5WdSA"
      },
      "source": [
        "- 3rd Quarter overall  performance on area that we serve."
      ]
    },
    {
      "cell_type": "code",
      "metadata": {
        "id": "wfuGraQ2WaI-",
        "outputId": "01e83686-a262-48df-d641-40dff1b99283",
        "colab": {
          "base_uri": "https://localhost:8080/",
          "height": 425
        }
      },
      "source": [
        "df3qsales.groupby('Area')['user_id'].count().sort_values(ascending = True).plot.bar(figsize=(15,5),\n",
        "                                                       legend=False,\n",
        "                                                       title = \"Monthly sales per month\");"
      ],
      "execution_count": 189,
      "outputs": [
        {
          "output_type": "display_data",
          "data": {
            "image/png": "[encoded data removed]",
            "text/plain": [
              "<Figure size 1080x360 with 1 Axes>"
            ]
          },
          "metadata": {
            "tags": [],
            "needs_background": "light"
          }
        }
      ]
    },
    {
      "cell_type": "markdown",
      "metadata": {
        "id": "i1ab3h9W6j4h"
      },
      "source": [
        "**MONTHLY PERFORMANCE PER AREA:**"
      ]
    },
    {
      "cell_type": "markdown",
      "metadata": {
        "id": "OcMWK5Lm6wDi"
      },
      "source": [
        "**-  2nd Quarter perfomance based on months and area**"
      ]
    },
    {
      "cell_type": "markdown",
      "metadata": {
        "id": "cS6gG4-xX385"
      },
      "source": [
        "Monthly  Summary on the regional sales and month performance in the 2nd Quarter. The table gives us the maximum no of sales in each area and the maximum no of sales in each month."
      ]
    },
    {
      "cell_type": "code",
      "metadata": {
        "id": "FReWdtXmYDFK"
      },
      "source": [
        "dfmontharea = df2qsales.pivot_table('user_id',index='month',columns='Area',aggfunc= 'count')\n"
      ],
      "execution_count": 219,
      "outputs": []
    },
    {
      "cell_type": "code",
      "metadata": {
        "id": "kLBxQSVdkRhn",
        "outputId": "7372a568-be9b-474f-a2a0-24dfd63ddca9",
        "colab": {
          "base_uri": "https://localhost:8080/",
          "height": 210
        }
      },
      "source": [
        "dfmontharea.head()"
      ],
      "execution_count": 220,
      "outputs": [
        {
          "output_type": "execute_result",
          "data": {
            "text/html": [
              "<div>\n",
              "<style scoped>\n",
              "    .dataframe tbody tr th:only-of-type {\n",
              "        vertical-align: middle;\n",
              "    }\n",
              "\n",
              "    .dataframe tbody tr th {\n",
              "        vertical-align: top;\n",
              "    }\n",
              "\n",
              "    .dataframe thead th {\n",
              "        text-align: right;\n",
              "    }\n",
              "</style>\n",
              "<table border=\"1\" class=\"dataframe\">\n",
              "  <thead>\n",
              "    <tr style=\"text-align: right;\">\n",
              "      <th>Area</th>\n",
              "      <th>Akala</th>\n",
              "      <th>Bomet</th>\n",
              "      <th>Bondo</th>\n",
              "      <th>Bungoma</th>\n",
              "      <th>Burnt Forest</th>\n",
              "      <th>Busia</th>\n",
              "      <th>CBD</th>\n",
              "      <th>Eldama Ravine</th>\n",
              "      <th>Eldoret</th>\n",
              "      <th>Elgeyo Marakwet</th>\n",
              "      <th>Emali Town</th>\n",
              "      <th>Embu</th>\n",
              "      <th>Hola</th>\n",
              "      <th>Homa Bay</th>\n",
              "      <th>Isiolo</th>\n",
              "      <th>Kabarnet</th>\n",
              "      <th>Kajiado</th>\n",
              "      <th>Kakamega</th>\n",
              "      <th>Kapcherop</th>\n",
              "      <th>Kapsabet</th>\n",
              "      <th>Katito</th>\n",
              "      <th>Kawangware</th>\n",
              "      <th>Kericho</th>\n",
              "      <th>Keroka</th>\n",
              "      <th>Kibwezi</th>\n",
              "      <th>Kilifi</th>\n",
              "      <th>Kimilili</th>\n",
              "      <th>Kirinyaga</th>\n",
              "      <th>Kiserian</th>\n",
              "      <th>Kisii</th>\n",
              "      <th>Kisumu</th>\n",
              "      <th>Kitale</th>\n",
              "      <th>Kitui</th>\n",
              "      <th>Kwale</th>\n",
              "      <th>Lodwar</th>\n",
              "      <th>Luanda</th>\n",
              "      <th>Lugari</th>\n",
              "      <th>Machakos</th>\n",
              "      <th>Makueni</th>\n",
              "      <th>Malindi</th>\n",
              "      <th>Matunda</th>\n",
              "      <th>Matuu</th>\n",
              "      <th>Maua</th>\n",
              "      <th>Mbita</th>\n",
              "      <th>Meru</th>\n",
              "      <th>Migori</th>\n",
              "      <th>Molo</th>\n",
              "      <th>Mombasa</th>\n",
              "      <th>Muhoroni</th>\n",
              "      <th>Mumias</th>\n",
              "      <th>Murang'a</th>\n",
              "      <th>Mutomo</th>\n",
              "      <th>Mwingi</th>\n",
              "      <th>Naivasha</th>\n",
              "      <th>Nakuru</th>\n",
              "      <th>Narok</th>\n",
              "      <th>Nyamira</th>\n",
              "      <th>Nyandarua</th>\n",
              "      <th>Nyeri</th>\n",
              "      <th>Oyugis</th>\n",
              "      <th>Port Victoria</th>\n",
              "      <th>Rongo</th>\n",
              "      <th>Siaya</th>\n",
              "      <th>Taita Taveta</th>\n",
              "      <th>Ukunda</th>\n",
              "      <th>Vihiga</th>\n",
              "      <th>Webuye</th>\n",
              "      <th>West Pokot</th>\n",
              "    </tr>\n",
              "    <tr>\n",
              "      <th>month</th>\n",
              "      <th></th>\n",
              "      <th></th>\n",
              "      <th></th>\n",
              "      <th></th>\n",
              "      <th></th>\n",
              "      <th></th>\n",
              "      <th></th>\n",
              "      <th></th>\n",
              "      <th></th>\n",
              "      <th></th>\n",
              "      <th></th>\n",
              "      <th></th>\n",
              "      <th></th>\n",
              "      <th></th>\n",
              "      <th></th>\n",
              "      <th></th>\n",
              "      <th></th>\n",
              "      <th></th>\n",
              "      <th></th>\n",
              "      <th></th>\n",
              "      <th></th>\n",
              "      <th></th>\n",
              "      <th></th>\n",
              "      <th></th>\n",
              "      <th></th>\n",
              "      <th></th>\n",
              "      <th></th>\n",
              "      <th></th>\n",
              "      <th></th>\n",
              "      <th></th>\n",
              "      <th></th>\n",
              "      <th></th>\n",
              "      <th></th>\n",
              "      <th></th>\n",
              "      <th></th>\n",
              "      <th></th>\n",
              "      <th></th>\n",
              "      <th></th>\n",
              "      <th></th>\n",
              "      <th></th>\n",
              "      <th></th>\n",
              "      <th></th>\n",
              "      <th></th>\n",
              "      <th></th>\n",
              "      <th></th>\n",
              "      <th></th>\n",
              "      <th></th>\n",
              "      <th></th>\n",
              "      <th></th>\n",
              "      <th></th>\n",
              "      <th></th>\n",
              "      <th></th>\n",
              "      <th></th>\n",
              "      <th></th>\n",
              "      <th></th>\n",
              "      <th></th>\n",
              "      <th></th>\n",
              "      <th></th>\n",
              "      <th></th>\n",
              "      <th></th>\n",
              "      <th></th>\n",
              "      <th></th>\n",
              "      <th></th>\n",
              "      <th></th>\n",
              "      <th></th>\n",
              "      <th></th>\n",
              "      <th></th>\n",
              "      <th></th>\n",
              "    </tr>\n",
              "  </thead>\n",
              "  <tbody>\n",
              "    <tr>\n",
              "      <th>4</th>\n",
              "      <td>1351.0</td>\n",
              "      <td>494.0</td>\n",
              "      <td>1744.0</td>\n",
              "      <td>1677.0</td>\n",
              "      <td>562.0</td>\n",
              "      <td>924.0</td>\n",
              "      <td>477.0</td>\n",
              "      <td>914.0</td>\n",
              "      <td>497.0</td>\n",
              "      <td>558.0</td>\n",
              "      <td>849.0</td>\n",
              "      <td>423.0</td>\n",
              "      <td>489.0</td>\n",
              "      <td>464.0</td>\n",
              "      <td>430.0</td>\n",
              "      <td>409.0</td>\n",
              "      <td>2008.0</td>\n",
              "      <td>1960.0</td>\n",
              "      <td>442.0</td>\n",
              "      <td>465.0</td>\n",
              "      <td>904.0</td>\n",
              "      <td>860.0</td>\n",
              "      <td>512.0</td>\n",
              "      <td>707.0</td>\n",
              "      <td>828.0</td>\n",
              "      <td>2249.0</td>\n",
              "      <td>683.0</td>\n",
              "      <td>808.0</td>\n",
              "      <td>1674.0</td>\n",
              "      <td>916.0</td>\n",
              "      <td>1237.0</td>\n",
              "      <td>1630.0</td>\n",
              "      <td>796.0</td>\n",
              "      <td>778.0</td>\n",
              "      <td>518.0</td>\n",
              "      <td>780.0</td>\n",
              "      <td>885.0</td>\n",
              "      <td>452.0</td>\n",
              "      <td>861.0</td>\n",
              "      <td>386.0</td>\n",
              "      <td>731.0</td>\n",
              "      <td>508.0</td>\n",
              "      <td>420.0</td>\n",
              "      <td>509.0</td>\n",
              "      <td>433.0</td>\n",
              "      <td>918.0</td>\n",
              "      <td>464.0</td>\n",
              "      <td>999.0</td>\n",
              "      <td>1294.0</td>\n",
              "      <td>822.0</td>\n",
              "      <td>942.0</td>\n",
              "      <td>918.0</td>\n",
              "      <td>863.0</td>\n",
              "      <td>535.0</td>\n",
              "      <td>1762.0</td>\n",
              "      <td>1983.0</td>\n",
              "      <td>941.0</td>\n",
              "      <td>888.0</td>\n",
              "      <td>890.0</td>\n",
              "      <td>475.0</td>\n",
              "      <td>1412.0</td>\n",
              "      <td>887.0</td>\n",
              "      <td>499.0</td>\n",
              "      <td>871.0</td>\n",
              "      <td>475.0</td>\n",
              "      <td>693.0</td>\n",
              "      <td>422.0</td>\n",
              "      <td>931.0</td>\n",
              "    </tr>\n",
              "    <tr>\n",
              "      <th>5</th>\n",
              "      <td>1299.0</td>\n",
              "      <td>NaN</td>\n",
              "      <td>1866.0</td>\n",
              "      <td>1610.0</td>\n",
              "      <td>NaN</td>\n",
              "      <td>624.0</td>\n",
              "      <td>NaN</td>\n",
              "      <td>570.0</td>\n",
              "      <td>NaN</td>\n",
              "      <td>NaN</td>\n",
              "      <td>521.0</td>\n",
              "      <td>NaN</td>\n",
              "      <td>NaN</td>\n",
              "      <td>NaN</td>\n",
              "      <td>NaN</td>\n",
              "      <td>NaN</td>\n",
              "      <td>2108.0</td>\n",
              "      <td>2092.0</td>\n",
              "      <td>NaN</td>\n",
              "      <td>NaN</td>\n",
              "      <td>579.0</td>\n",
              "      <td>546.0</td>\n",
              "      <td>NaN</td>\n",
              "      <td>452.0</td>\n",
              "      <td>513.0</td>\n",
              "      <td>2292.0</td>\n",
              "      <td>425.0</td>\n",
              "      <td>567.0</td>\n",
              "      <td>1832.0</td>\n",
              "      <td>619.0</td>\n",
              "      <td>774.0</td>\n",
              "      <td>1756.0</td>\n",
              "      <td>521.0</td>\n",
              "      <td>521.0</td>\n",
              "      <td>NaN</td>\n",
              "      <td>483.0</td>\n",
              "      <td>571.0</td>\n",
              "      <td>NaN</td>\n",
              "      <td>567.0</td>\n",
              "      <td>NaN</td>\n",
              "      <td>457.0</td>\n",
              "      <td>NaN</td>\n",
              "      <td>NaN</td>\n",
              "      <td>NaN</td>\n",
              "      <td>NaN</td>\n",
              "      <td>577.0</td>\n",
              "      <td>NaN</td>\n",
              "      <td>663.0</td>\n",
              "      <td>1176.0</td>\n",
              "      <td>535.0</td>\n",
              "      <td>635.0</td>\n",
              "      <td>580.0</td>\n",
              "      <td>554.0</td>\n",
              "      <td>NaN</td>\n",
              "      <td>1883.0</td>\n",
              "      <td>2094.0</td>\n",
              "      <td>569.0</td>\n",
              "      <td>564.0</td>\n",
              "      <td>592.0</td>\n",
              "      <td>NaN</td>\n",
              "      <td>1405.0</td>\n",
              "      <td>600.0</td>\n",
              "      <td>NaN</td>\n",
              "      <td>537.0</td>\n",
              "      <td>NaN</td>\n",
              "      <td>509.0</td>\n",
              "      <td>NaN</td>\n",
              "      <td>608.0</td>\n",
              "    </tr>\n",
              "    <tr>\n",
              "      <th>6</th>\n",
              "      <td>891.0</td>\n",
              "      <td>NaN</td>\n",
              "      <td>1289.0</td>\n",
              "      <td>1053.0</td>\n",
              "      <td>NaN</td>\n",
              "      <td>432.0</td>\n",
              "      <td>NaN</td>\n",
              "      <td>373.0</td>\n",
              "      <td>NaN</td>\n",
              "      <td>NaN</td>\n",
              "      <td>383.0</td>\n",
              "      <td>NaN</td>\n",
              "      <td>NaN</td>\n",
              "      <td>NaN</td>\n",
              "      <td>NaN</td>\n",
              "      <td>NaN</td>\n",
              "      <td>1486.0</td>\n",
              "      <td>1516.0</td>\n",
              "      <td>NaN</td>\n",
              "      <td>NaN</td>\n",
              "      <td>433.0</td>\n",
              "      <td>397.0</td>\n",
              "      <td>NaN</td>\n",
              "      <td>324.0</td>\n",
              "      <td>344.0</td>\n",
              "      <td>1664.0</td>\n",
              "      <td>280.0</td>\n",
              "      <td>375.0</td>\n",
              "      <td>1235.0</td>\n",
              "      <td>420.0</td>\n",
              "      <td>568.0</td>\n",
              "      <td>1251.0</td>\n",
              "      <td>354.0</td>\n",
              "      <td>343.0</td>\n",
              "      <td>NaN</td>\n",
              "      <td>347.0</td>\n",
              "      <td>453.0</td>\n",
              "      <td>NaN</td>\n",
              "      <td>387.0</td>\n",
              "      <td>NaN</td>\n",
              "      <td>317.0</td>\n",
              "      <td>NaN</td>\n",
              "      <td>NaN</td>\n",
              "      <td>NaN</td>\n",
              "      <td>NaN</td>\n",
              "      <td>354.0</td>\n",
              "      <td>NaN</td>\n",
              "      <td>423.0</td>\n",
              "      <td>884.0</td>\n",
              "      <td>401.0</td>\n",
              "      <td>427.0</td>\n",
              "      <td>401.0</td>\n",
              "      <td>373.0</td>\n",
              "      <td>NaN</td>\n",
              "      <td>1288.0</td>\n",
              "      <td>1444.0</td>\n",
              "      <td>398.0</td>\n",
              "      <td>404.0</td>\n",
              "      <td>399.0</td>\n",
              "      <td>NaN</td>\n",
              "      <td>978.0</td>\n",
              "      <td>353.0</td>\n",
              "      <td>NaN</td>\n",
              "      <td>369.0</td>\n",
              "      <td>NaN</td>\n",
              "      <td>342.0</td>\n",
              "      <td>NaN</td>\n",
              "      <td>416.0</td>\n",
              "    </tr>\n",
              "  </tbody>\n",
              "</table>\n",
              "</div>"
            ],
            "text/plain": [
              "Area    Akala  Bomet   Bondo  Bungoma  ...  Ukunda  Vihiga  Webuye  West Pokot\n",
              "month                                  ...                                    \n",
              "4      1351.0  494.0  1744.0   1677.0  ...   475.0   693.0   422.0       931.0\n",
              "5      1299.0    NaN  1866.0   1610.0  ...     NaN   509.0     NaN       608.0\n",
              "6       891.0    NaN  1289.0   1053.0  ...     NaN   342.0     NaN       416.0\n",
              "\n",
              "[3 rows x 68 columns]"
            ]
          },
          "metadata": {
            "tags": []
          },
          "execution_count": 220
        }
      ]
    },
    {
      "cell_type": "code",
      "metadata": {
        "id": "j0BRzyw7dx_w"
      },
      "source": [
        "dfmontharea['Max_Sales']=dfmontharea.max(axis=1,skipna=True)\n",
        "dfmontharea['Highest no of month sales']=dfmontharea.apply(lambda x : x.idxmax(), axis=1)   "
      ],
      "execution_count": 221,
      "outputs": []
    },
    {
      "cell_type": "code",
      "metadata": {
        "id": "fV1CFwJBmLvC",
        "outputId": "26293d2f-f9b1-45f6-a09f-48ae092ac937",
        "colab": {
          "base_uri": "https://localhost:8080/",
          "height": 244
        }
      },
      "source": [
        "dfmontharea.head()"
      ],
      "execution_count": 222,
      "outputs": [
        {
          "output_type": "execute_result",
          "data": {
            "text/html": [
              "<div>\n",
              "<style scoped>\n",
              "    .dataframe tbody tr th:only-of-type {\n",
              "        vertical-align: middle;\n",
              "    }\n",
              "\n",
              "    .dataframe tbody tr th {\n",
              "        vertical-align: top;\n",
              "    }\n",
              "\n",
              "    .dataframe thead th {\n",
              "        text-align: right;\n",
              "    }\n",
              "</style>\n",
              "<table border=\"1\" class=\"dataframe\">\n",
              "  <thead>\n",
              "    <tr style=\"text-align: right;\">\n",
              "      <th>Area</th>\n",
              "      <th>Akala</th>\n",
              "      <th>Bomet</th>\n",
              "      <th>Bondo</th>\n",
              "      <th>Bungoma</th>\n",
              "      <th>Burnt Forest</th>\n",
              "      <th>Busia</th>\n",
              "      <th>CBD</th>\n",
              "      <th>Eldama Ravine</th>\n",
              "      <th>Eldoret</th>\n",
              "      <th>Elgeyo Marakwet</th>\n",
              "      <th>Emali Town</th>\n",
              "      <th>Embu</th>\n",
              "      <th>Hola</th>\n",
              "      <th>Homa Bay</th>\n",
              "      <th>Isiolo</th>\n",
              "      <th>Kabarnet</th>\n",
              "      <th>Kajiado</th>\n",
              "      <th>Kakamega</th>\n",
              "      <th>Kapcherop</th>\n",
              "      <th>Kapsabet</th>\n",
              "      <th>Katito</th>\n",
              "      <th>Kawangware</th>\n",
              "      <th>Kericho</th>\n",
              "      <th>Keroka</th>\n",
              "      <th>Kibwezi</th>\n",
              "      <th>Kilifi</th>\n",
              "      <th>Kimilili</th>\n",
              "      <th>Kirinyaga</th>\n",
              "      <th>Kiserian</th>\n",
              "      <th>Kisii</th>\n",
              "      <th>Kisumu</th>\n",
              "      <th>Kitale</th>\n",
              "      <th>Kitui</th>\n",
              "      <th>Kwale</th>\n",
              "      <th>Lodwar</th>\n",
              "      <th>Luanda</th>\n",
              "      <th>Lugari</th>\n",
              "      <th>Machakos</th>\n",
              "      <th>Makueni</th>\n",
              "      <th>Malindi</th>\n",
              "      <th>Matunda</th>\n",
              "      <th>Matuu</th>\n",
              "      <th>Maua</th>\n",
              "      <th>Mbita</th>\n",
              "      <th>Meru</th>\n",
              "      <th>Migori</th>\n",
              "      <th>Molo</th>\n",
              "      <th>Mombasa</th>\n",
              "      <th>Muhoroni</th>\n",
              "      <th>Mumias</th>\n",
              "      <th>Murang'a</th>\n",
              "      <th>Mutomo</th>\n",
              "      <th>Mwingi</th>\n",
              "      <th>Naivasha</th>\n",
              "      <th>Nakuru</th>\n",
              "      <th>Narok</th>\n",
              "      <th>Nyamira</th>\n",
              "      <th>Nyandarua</th>\n",
              "      <th>Nyeri</th>\n",
              "      <th>Oyugis</th>\n",
              "      <th>Port Victoria</th>\n",
              "      <th>Rongo</th>\n",
              "      <th>Siaya</th>\n",
              "      <th>Taita Taveta</th>\n",
              "      <th>Ukunda</th>\n",
              "      <th>Vihiga</th>\n",
              "      <th>Webuye</th>\n",
              "      <th>West Pokot</th>\n",
              "      <th>Max_Sales</th>\n",
              "      <th>Highest no of month sales</th>\n",
              "    </tr>\n",
              "    <tr>\n",
              "      <th>month</th>\n",
              "      <th></th>\n",
              "      <th></th>\n",
              "      <th></th>\n",
              "      <th></th>\n",
              "      <th></th>\n",
              "      <th></th>\n",
              "      <th></th>\n",
              "      <th></th>\n",
              "      <th></th>\n",
              "      <th></th>\n",
              "      <th></th>\n",
              "      <th></th>\n",
              "      <th></th>\n",
              "      <th></th>\n",
              "      <th></th>\n",
              "      <th></th>\n",
              "      <th></th>\n",
              "      <th></th>\n",
              "      <th></th>\n",
              "      <th></th>\n",
              "      <th></th>\n",
              "      <th></th>\n",
              "      <th></th>\n",
              "      <th></th>\n",
              "      <th></th>\n",
              "      <th></th>\n",
              "      <th></th>\n",
              "      <th></th>\n",
              "      <th></th>\n",
              "      <th></th>\n",
              "      <th></th>\n",
              "      <th></th>\n",
              "      <th></th>\n",
              "      <th></th>\n",
              "      <th></th>\n",
              "      <th></th>\n",
              "      <th></th>\n",
              "      <th></th>\n",
              "      <th></th>\n",
              "      <th></th>\n",
              "      <th></th>\n",
              "      <th></th>\n",
              "      <th></th>\n",
              "      <th></th>\n",
              "      <th></th>\n",
              "      <th></th>\n",
              "      <th></th>\n",
              "      <th></th>\n",
              "      <th></th>\n",
              "      <th></th>\n",
              "      <th></th>\n",
              "      <th></th>\n",
              "      <th></th>\n",
              "      <th></th>\n",
              "      <th></th>\n",
              "      <th></th>\n",
              "      <th></th>\n",
              "      <th></th>\n",
              "      <th></th>\n",
              "      <th></th>\n",
              "      <th></th>\n",
              "      <th></th>\n",
              "      <th></th>\n",
              "      <th></th>\n",
              "      <th></th>\n",
              "      <th></th>\n",
              "      <th></th>\n",
              "      <th></th>\n",
              "      <th></th>\n",
              "      <th></th>\n",
              "    </tr>\n",
              "  </thead>\n",
              "  <tbody>\n",
              "    <tr>\n",
              "      <th>4</th>\n",
              "      <td>1351.0</td>\n",
              "      <td>494.0</td>\n",
              "      <td>1744.0</td>\n",
              "      <td>1677.0</td>\n",
              "      <td>562.0</td>\n",
              "      <td>924.0</td>\n",
              "      <td>477.0</td>\n",
              "      <td>914.0</td>\n",
              "      <td>497.0</td>\n",
              "      <td>558.0</td>\n",
              "      <td>849.0</td>\n",
              "      <td>423.0</td>\n",
              "      <td>489.0</td>\n",
              "      <td>464.0</td>\n",
              "      <td>430.0</td>\n",
              "      <td>409.0</td>\n",
              "      <td>2008.0</td>\n",
              "      <td>1960.0</td>\n",
              "      <td>442.0</td>\n",
              "      <td>465.0</td>\n",
              "      <td>904.0</td>\n",
              "      <td>860.0</td>\n",
              "      <td>512.0</td>\n",
              "      <td>707.0</td>\n",
              "      <td>828.0</td>\n",
              "      <td>2249.0</td>\n",
              "      <td>683.0</td>\n",
              "      <td>808.0</td>\n",
              "      <td>1674.0</td>\n",
              "      <td>916.0</td>\n",
              "      <td>1237.0</td>\n",
              "      <td>1630.0</td>\n",
              "      <td>796.0</td>\n",
              "      <td>778.0</td>\n",
              "      <td>518.0</td>\n",
              "      <td>780.0</td>\n",
              "      <td>885.0</td>\n",
              "      <td>452.0</td>\n",
              "      <td>861.0</td>\n",
              "      <td>386.0</td>\n",
              "      <td>731.0</td>\n",
              "      <td>508.0</td>\n",
              "      <td>420.0</td>\n",
              "      <td>509.0</td>\n",
              "      <td>433.0</td>\n",
              "      <td>918.0</td>\n",
              "      <td>464.0</td>\n",
              "      <td>999.0</td>\n",
              "      <td>1294.0</td>\n",
              "      <td>822.0</td>\n",
              "      <td>942.0</td>\n",
              "      <td>918.0</td>\n",
              "      <td>863.0</td>\n",
              "      <td>535.0</td>\n",
              "      <td>1762.0</td>\n",
              "      <td>1983.0</td>\n",
              "      <td>941.0</td>\n",
              "      <td>888.0</td>\n",
              "      <td>890.0</td>\n",
              "      <td>475.0</td>\n",
              "      <td>1412.0</td>\n",
              "      <td>887.0</td>\n",
              "      <td>499.0</td>\n",
              "      <td>871.0</td>\n",
              "      <td>475.0</td>\n",
              "      <td>693.0</td>\n",
              "      <td>422.0</td>\n",
              "      <td>931.0</td>\n",
              "      <td>2249.0</td>\n",
              "      <td>Kilifi</td>\n",
              "    </tr>\n",
              "    <tr>\n",
              "      <th>5</th>\n",
              "      <td>1299.0</td>\n",
              "      <td>NaN</td>\n",
              "      <td>1866.0</td>\n",
              "      <td>1610.0</td>\n",
              "      <td>NaN</td>\n",
              "      <td>624.0</td>\n",
              "      <td>NaN</td>\n",
              "      <td>570.0</td>\n",
              "      <td>NaN</td>\n",
              "      <td>NaN</td>\n",
              "      <td>521.0</td>\n",
              "      <td>NaN</td>\n",
              "      <td>NaN</td>\n",
              "      <td>NaN</td>\n",
              "      <td>NaN</td>\n",
              "      <td>NaN</td>\n",
              "      <td>2108.0</td>\n",
              "      <td>2092.0</td>\n",
              "      <td>NaN</td>\n",
              "      <td>NaN</td>\n",
              "      <td>579.0</td>\n",
              "      <td>546.0</td>\n",
              "      <td>NaN</td>\n",
              "      <td>452.0</td>\n",
              "      <td>513.0</td>\n",
              "      <td>2292.0</td>\n",
              "      <td>425.0</td>\n",
              "      <td>567.0</td>\n",
              "      <td>1832.0</td>\n",
              "      <td>619.0</td>\n",
              "      <td>774.0</td>\n",
              "      <td>1756.0</td>\n",
              "      <td>521.0</td>\n",
              "      <td>521.0</td>\n",
              "      <td>NaN</td>\n",
              "      <td>483.0</td>\n",
              "      <td>571.0</td>\n",
              "      <td>NaN</td>\n",
              "      <td>567.0</td>\n",
              "      <td>NaN</td>\n",
              "      <td>457.0</td>\n",
              "      <td>NaN</td>\n",
              "      <td>NaN</td>\n",
              "      <td>NaN</td>\n",
              "      <td>NaN</td>\n",
              "      <td>577.0</td>\n",
              "      <td>NaN</td>\n",
              "      <td>663.0</td>\n",
              "      <td>1176.0</td>\n",
              "      <td>535.0</td>\n",
              "      <td>635.0</td>\n",
              "      <td>580.0</td>\n",
              "      <td>554.0</td>\n",
              "      <td>NaN</td>\n",
              "      <td>1883.0</td>\n",
              "      <td>2094.0</td>\n",
              "      <td>569.0</td>\n",
              "      <td>564.0</td>\n",
              "      <td>592.0</td>\n",
              "      <td>NaN</td>\n",
              "      <td>1405.0</td>\n",
              "      <td>600.0</td>\n",
              "      <td>NaN</td>\n",
              "      <td>537.0</td>\n",
              "      <td>NaN</td>\n",
              "      <td>509.0</td>\n",
              "      <td>NaN</td>\n",
              "      <td>608.0</td>\n",
              "      <td>2292.0</td>\n",
              "      <td>Kilifi</td>\n",
              "    </tr>\n",
              "    <tr>\n",
              "      <th>6</th>\n",
              "      <td>891.0</td>\n",
              "      <td>NaN</td>\n",
              "      <td>1289.0</td>\n",
              "      <td>1053.0</td>\n",
              "      <td>NaN</td>\n",
              "      <td>432.0</td>\n",
              "      <td>NaN</td>\n",
              "      <td>373.0</td>\n",
              "      <td>NaN</td>\n",
              "      <td>NaN</td>\n",
              "      <td>383.0</td>\n",
              "      <td>NaN</td>\n",
              "      <td>NaN</td>\n",
              "      <td>NaN</td>\n",
              "      <td>NaN</td>\n",
              "      <td>NaN</td>\n",
              "      <td>1486.0</td>\n",
              "      <td>1516.0</td>\n",
              "      <td>NaN</td>\n",
              "      <td>NaN</td>\n",
              "      <td>433.0</td>\n",
              "      <td>397.0</td>\n",
              "      <td>NaN</td>\n",
              "      <td>324.0</td>\n",
              "      <td>344.0</td>\n",
              "      <td>1664.0</td>\n",
              "      <td>280.0</td>\n",
              "      <td>375.0</td>\n",
              "      <td>1235.0</td>\n",
              "      <td>420.0</td>\n",
              "      <td>568.0</td>\n",
              "      <td>1251.0</td>\n",
              "      <td>354.0</td>\n",
              "      <td>343.0</td>\n",
              "      <td>NaN</td>\n",
              "      <td>347.0</td>\n",
              "      <td>453.0</td>\n",
              "      <td>NaN</td>\n",
              "      <td>387.0</td>\n",
              "      <td>NaN</td>\n",
              "      <td>317.0</td>\n",
              "      <td>NaN</td>\n",
              "      <td>NaN</td>\n",
              "      <td>NaN</td>\n",
              "      <td>NaN</td>\n",
              "      <td>354.0</td>\n",
              "      <td>NaN</td>\n",
              "      <td>423.0</td>\n",
              "      <td>884.0</td>\n",
              "      <td>401.0</td>\n",
              "      <td>427.0</td>\n",
              "      <td>401.0</td>\n",
              "      <td>373.0</td>\n",
              "      <td>NaN</td>\n",
              "      <td>1288.0</td>\n",
              "      <td>1444.0</td>\n",
              "      <td>398.0</td>\n",
              "      <td>404.0</td>\n",
              "      <td>399.0</td>\n",
              "      <td>NaN</td>\n",
              "      <td>978.0</td>\n",
              "      <td>353.0</td>\n",
              "      <td>NaN</td>\n",
              "      <td>369.0</td>\n",
              "      <td>NaN</td>\n",
              "      <td>342.0</td>\n",
              "      <td>NaN</td>\n",
              "      <td>416.0</td>\n",
              "      <td>1664.0</td>\n",
              "      <td>Kilifi</td>\n",
              "    </tr>\n",
              "  </tbody>\n",
              "</table>\n",
              "</div>"
            ],
            "text/plain": [
              "Area    Akala  Bomet   Bondo  ...  West Pokot  Max_Sales  Highest no of month sales\n",
              "month                         ...                                                  \n",
              "4      1351.0  494.0  1744.0  ...       931.0     2249.0                     Kilifi\n",
              "5      1299.0    NaN  1866.0  ...       608.0     2292.0                     Kilifi\n",
              "6       891.0    NaN  1289.0  ...       416.0     1664.0                     Kilifi\n",
              "\n",
              "[3 rows x 70 columns]"
            ]
          },
          "metadata": {
            "tags": []
          },
          "execution_count": 222
        }
      ]
    },
    {
      "cell_type": "code",
      "metadata": {
        "id": "RqdEUoFxgMHs",
        "outputId": "74fbf139-9ca1-449a-dd81-2e606cabad78",
        "colab": {
          "base_uri": "https://localhost:8080/",
          "height": 244
        }
      },
      "source": [
        "dfmontharea.sort_values(('Max_Sales'),ascending =False)"
      ],
      "execution_count": 224,
      "outputs": [
        {
          "output_type": "execute_result",
          "data": {
            "text/html": [
              "<div>\n",
              "<style scoped>\n",
              "    .dataframe tbody tr th:only-of-type {\n",
              "        vertical-align: middle;\n",
              "    }\n",
              "\n",
              "    .dataframe tbody tr th {\n",
              "        vertical-align: top;\n",
              "    }\n",
              "\n",
              "    .dataframe thead th {\n",
              "        text-align: right;\n",
              "    }\n",
              "</style>\n",
              "<table border=\"1\" class=\"dataframe\">\n",
              "  <thead>\n",
              "    <tr style=\"text-align: right;\">\n",
              "      <th>Area</th>\n",
              "      <th>Akala</th>\n",
              "      <th>Bomet</th>\n",
              "      <th>Bondo</th>\n",
              "      <th>Bungoma</th>\n",
              "      <th>Burnt Forest</th>\n",
              "      <th>Busia</th>\n",
              "      <th>CBD</th>\n",
              "      <th>Eldama Ravine</th>\n",
              "      <th>Eldoret</th>\n",
              "      <th>Elgeyo Marakwet</th>\n",
              "      <th>Emali Town</th>\n",
              "      <th>Embu</th>\n",
              "      <th>Hola</th>\n",
              "      <th>Homa Bay</th>\n",
              "      <th>Isiolo</th>\n",
              "      <th>Kabarnet</th>\n",
              "      <th>Kajiado</th>\n",
              "      <th>Kakamega</th>\n",
              "      <th>Kapcherop</th>\n",
              "      <th>Kapsabet</th>\n",
              "      <th>Katito</th>\n",
              "      <th>Kawangware</th>\n",
              "      <th>Kericho</th>\n",
              "      <th>Keroka</th>\n",
              "      <th>Kibwezi</th>\n",
              "      <th>Kilifi</th>\n",
              "      <th>Kimilili</th>\n",
              "      <th>Kirinyaga</th>\n",
              "      <th>Kiserian</th>\n",
              "      <th>Kisii</th>\n",
              "      <th>Kisumu</th>\n",
              "      <th>Kitale</th>\n",
              "      <th>Kitui</th>\n",
              "      <th>Kwale</th>\n",
              "      <th>Lodwar</th>\n",
              "      <th>Luanda</th>\n",
              "      <th>Lugari</th>\n",
              "      <th>Machakos</th>\n",
              "      <th>Makueni</th>\n",
              "      <th>Malindi</th>\n",
              "      <th>Matunda</th>\n",
              "      <th>Matuu</th>\n",
              "      <th>Maua</th>\n",
              "      <th>Mbita</th>\n",
              "      <th>Meru</th>\n",
              "      <th>Migori</th>\n",
              "      <th>Molo</th>\n",
              "      <th>Mombasa</th>\n",
              "      <th>Muhoroni</th>\n",
              "      <th>Mumias</th>\n",
              "      <th>Murang'a</th>\n",
              "      <th>Mutomo</th>\n",
              "      <th>Mwingi</th>\n",
              "      <th>Naivasha</th>\n",
              "      <th>Nakuru</th>\n",
              "      <th>Narok</th>\n",
              "      <th>Nyamira</th>\n",
              "      <th>Nyandarua</th>\n",
              "      <th>Nyeri</th>\n",
              "      <th>Oyugis</th>\n",
              "      <th>Port Victoria</th>\n",
              "      <th>Rongo</th>\n",
              "      <th>Siaya</th>\n",
              "      <th>Taita Taveta</th>\n",
              "      <th>Ukunda</th>\n",
              "      <th>Vihiga</th>\n",
              "      <th>Webuye</th>\n",
              "      <th>West Pokot</th>\n",
              "      <th>Max_Sales</th>\n",
              "      <th>Highest no of month sales</th>\n",
              "    </tr>\n",
              "    <tr>\n",
              "      <th>month</th>\n",
              "      <th></th>\n",
              "      <th></th>\n",
              "      <th></th>\n",
              "      <th></th>\n",
              "      <th></th>\n",
              "      <th></th>\n",
              "      <th></th>\n",
              "      <th></th>\n",
              "      <th></th>\n",
              "      <th></th>\n",
              "      <th></th>\n",
              "      <th></th>\n",
              "      <th></th>\n",
              "      <th></th>\n",
              "      <th></th>\n",
              "      <th></th>\n",
              "      <th></th>\n",
              "      <th></th>\n",
              "      <th></th>\n",
              "      <th></th>\n",
              "      <th></th>\n",
              "      <th></th>\n",
              "      <th></th>\n",
              "      <th></th>\n",
              "      <th></th>\n",
              "      <th></th>\n",
              "      <th></th>\n",
              "      <th></th>\n",
              "      <th></th>\n",
              "      <th></th>\n",
              "      <th></th>\n",
              "      <th></th>\n",
              "      <th></th>\n",
              "      <th></th>\n",
              "      <th></th>\n",
              "      <th></th>\n",
              "      <th></th>\n",
              "      <th></th>\n",
              "      <th></th>\n",
              "      <th></th>\n",
              "      <th></th>\n",
              "      <th></th>\n",
              "      <th></th>\n",
              "      <th></th>\n",
              "      <th></th>\n",
              "      <th></th>\n",
              "      <th></th>\n",
              "      <th></th>\n",
              "      <th></th>\n",
              "      <th></th>\n",
              "      <th></th>\n",
              "      <th></th>\n",
              "      <th></th>\n",
              "      <th></th>\n",
              "      <th></th>\n",
              "      <th></th>\n",
              "      <th></th>\n",
              "      <th></th>\n",
              "      <th></th>\n",
              "      <th></th>\n",
              "      <th></th>\n",
              "      <th></th>\n",
              "      <th></th>\n",
              "      <th></th>\n",
              "      <th></th>\n",
              "      <th></th>\n",
              "      <th></th>\n",
              "      <th></th>\n",
              "      <th></th>\n",
              "      <th></th>\n",
              "    </tr>\n",
              "  </thead>\n",
              "  <tbody>\n",
              "    <tr>\n",
              "      <th>5</th>\n",
              "      <td>1299.0</td>\n",
              "      <td>NaN</td>\n",
              "      <td>1866.0</td>\n",
              "      <td>1610.0</td>\n",
              "      <td>NaN</td>\n",
              "      <td>624.0</td>\n",
              "      <td>NaN</td>\n",
              "      <td>570.0</td>\n",
              "      <td>NaN</td>\n",
              "      <td>NaN</td>\n",
              "      <td>521.0</td>\n",
              "      <td>NaN</td>\n",
              "      <td>NaN</td>\n",
              "      <td>NaN</td>\n",
              "      <td>NaN</td>\n",
              "      <td>NaN</td>\n",
              "      <td>2108.0</td>\n",
              "      <td>2092.0</td>\n",
              "      <td>NaN</td>\n",
              "      <td>NaN</td>\n",
              "      <td>579.0</td>\n",
              "      <td>546.0</td>\n",
              "      <td>NaN</td>\n",
              "      <td>452.0</td>\n",
              "      <td>513.0</td>\n",
              "      <td>2292.0</td>\n",
              "      <td>425.0</td>\n",
              "      <td>567.0</td>\n",
              "      <td>1832.0</td>\n",
              "      <td>619.0</td>\n",
              "      <td>774.0</td>\n",
              "      <td>1756.0</td>\n",
              "      <td>521.0</td>\n",
              "      <td>521.0</td>\n",
              "      <td>NaN</td>\n",
              "      <td>483.0</td>\n",
              "      <td>571.0</td>\n",
              "      <td>NaN</td>\n",
              "      <td>567.0</td>\n",
              "      <td>NaN</td>\n",
              "      <td>457.0</td>\n",
              "      <td>NaN</td>\n",
              "      <td>NaN</td>\n",
              "      <td>NaN</td>\n",
              "      <td>NaN</td>\n",
              "      <td>577.0</td>\n",
              "      <td>NaN</td>\n",
              "      <td>663.0</td>\n",
              "      <td>1176.0</td>\n",
              "      <td>535.0</td>\n",
              "      <td>635.0</td>\n",
              "      <td>580.0</td>\n",
              "      <td>554.0</td>\n",
              "      <td>NaN</td>\n",
              "      <td>1883.0</td>\n",
              "      <td>2094.0</td>\n",
              "      <td>569.0</td>\n",
              "      <td>564.0</td>\n",
              "      <td>592.0</td>\n",
              "      <td>NaN</td>\n",
              "      <td>1405.0</td>\n",
              "      <td>600.0</td>\n",
              "      <td>NaN</td>\n",
              "      <td>537.0</td>\n",
              "      <td>NaN</td>\n",
              "      <td>509.0</td>\n",
              "      <td>NaN</td>\n",
              "      <td>608.0</td>\n",
              "      <td>2292.0</td>\n",
              "      <td>Kilifi</td>\n",
              "    </tr>\n",
              "    <tr>\n",
              "      <th>4</th>\n",
              "      <td>1351.0</td>\n",
              "      <td>494.0</td>\n",
              "      <td>1744.0</td>\n",
              "      <td>1677.0</td>\n",
              "      <td>562.0</td>\n",
              "      <td>924.0</td>\n",
              "      <td>477.0</td>\n",
              "      <td>914.0</td>\n",
              "      <td>497.0</td>\n",
              "      <td>558.0</td>\n",
              "      <td>849.0</td>\n",
              "      <td>423.0</td>\n",
              "      <td>489.0</td>\n",
              "      <td>464.0</td>\n",
              "      <td>430.0</td>\n",
              "      <td>409.0</td>\n",
              "      <td>2008.0</td>\n",
              "      <td>1960.0</td>\n",
              "      <td>442.0</td>\n",
              "      <td>465.0</td>\n",
              "      <td>904.0</td>\n",
              "      <td>860.0</td>\n",
              "      <td>512.0</td>\n",
              "      <td>707.0</td>\n",
              "      <td>828.0</td>\n",
              "      <td>2249.0</td>\n",
              "      <td>683.0</td>\n",
              "      <td>808.0</td>\n",
              "      <td>1674.0</td>\n",
              "      <td>916.0</td>\n",
              "      <td>1237.0</td>\n",
              "      <td>1630.0</td>\n",
              "      <td>796.0</td>\n",
              "      <td>778.0</td>\n",
              "      <td>518.0</td>\n",
              "      <td>780.0</td>\n",
              "      <td>885.0</td>\n",
              "      <td>452.0</td>\n",
              "      <td>861.0</td>\n",
              "      <td>386.0</td>\n",
              "      <td>731.0</td>\n",
              "      <td>508.0</td>\n",
              "      <td>420.0</td>\n",
              "      <td>509.0</td>\n",
              "      <td>433.0</td>\n",
              "      <td>918.0</td>\n",
              "      <td>464.0</td>\n",
              "      <td>999.0</td>\n",
              "      <td>1294.0</td>\n",
              "      <td>822.0</td>\n",
              "      <td>942.0</td>\n",
              "      <td>918.0</td>\n",
              "      <td>863.0</td>\n",
              "      <td>535.0</td>\n",
              "      <td>1762.0</td>\n",
              "      <td>1983.0</td>\n",
              "      <td>941.0</td>\n",
              "      <td>888.0</td>\n",
              "      <td>890.0</td>\n",
              "      <td>475.0</td>\n",
              "      <td>1412.0</td>\n",
              "      <td>887.0</td>\n",
              "      <td>499.0</td>\n",
              "      <td>871.0</td>\n",
              "      <td>475.0</td>\n",
              "      <td>693.0</td>\n",
              "      <td>422.0</td>\n",
              "      <td>931.0</td>\n",
              "      <td>2249.0</td>\n",
              "      <td>Kilifi</td>\n",
              "    </tr>\n",
              "    <tr>\n",
              "      <th>6</th>\n",
              "      <td>891.0</td>\n",
              "      <td>NaN</td>\n",
              "      <td>1289.0</td>\n",
              "      <td>1053.0</td>\n",
              "      <td>NaN</td>\n",
              "      <td>432.0</td>\n",
              "      <td>NaN</td>\n",
              "      <td>373.0</td>\n",
              "      <td>NaN</td>\n",
              "      <td>NaN</td>\n",
              "      <td>383.0</td>\n",
              "      <td>NaN</td>\n",
              "      <td>NaN</td>\n",
              "      <td>NaN</td>\n",
              "      <td>NaN</td>\n",
              "      <td>NaN</td>\n",
              "      <td>1486.0</td>\n",
              "      <td>1516.0</td>\n",
              "      <td>NaN</td>\n",
              "      <td>NaN</td>\n",
              "      <td>433.0</td>\n",
              "      <td>397.0</td>\n",
              "      <td>NaN</td>\n",
              "      <td>324.0</td>\n",
              "      <td>344.0</td>\n",
              "      <td>1664.0</td>\n",
              "      <td>280.0</td>\n",
              "      <td>375.0</td>\n",
              "      <td>1235.0</td>\n",
              "      <td>420.0</td>\n",
              "      <td>568.0</td>\n",
              "      <td>1251.0</td>\n",
              "      <td>354.0</td>\n",
              "      <td>343.0</td>\n",
              "      <td>NaN</td>\n",
              "      <td>347.0</td>\n",
              "      <td>453.0</td>\n",
              "      <td>NaN</td>\n",
              "      <td>387.0</td>\n",
              "      <td>NaN</td>\n",
              "      <td>317.0</td>\n",
              "      <td>NaN</td>\n",
              "      <td>NaN</td>\n",
              "      <td>NaN</td>\n",
              "      <td>NaN</td>\n",
              "      <td>354.0</td>\n",
              "      <td>NaN</td>\n",
              "      <td>423.0</td>\n",
              "      <td>884.0</td>\n",
              "      <td>401.0</td>\n",
              "      <td>427.0</td>\n",
              "      <td>401.0</td>\n",
              "      <td>373.0</td>\n",
              "      <td>NaN</td>\n",
              "      <td>1288.0</td>\n",
              "      <td>1444.0</td>\n",
              "      <td>398.0</td>\n",
              "      <td>404.0</td>\n",
              "      <td>399.0</td>\n",
              "      <td>NaN</td>\n",
              "      <td>978.0</td>\n",
              "      <td>353.0</td>\n",
              "      <td>NaN</td>\n",
              "      <td>369.0</td>\n",
              "      <td>NaN</td>\n",
              "      <td>342.0</td>\n",
              "      <td>NaN</td>\n",
              "      <td>416.0</td>\n",
              "      <td>1664.0</td>\n",
              "      <td>Kilifi</td>\n",
              "    </tr>\n",
              "  </tbody>\n",
              "</table>\n",
              "</div>"
            ],
            "text/plain": [
              "Area    Akala  Bomet   Bondo  ...  West Pokot  Max_Sales  Highest no of month sales\n",
              "month                         ...                                                  \n",
              "5      1299.0    NaN  1866.0  ...       608.0     2292.0                     Kilifi\n",
              "4      1351.0  494.0  1744.0  ...       931.0     2249.0                     Kilifi\n",
              "6       891.0    NaN  1289.0  ...       416.0     1664.0                     Kilifi\n",
              "\n",
              "[3 rows x 70 columns]"
            ]
          },
          "metadata": {
            "tags": []
          },
          "execution_count": 224
        }
      ]
    },
    {
      "cell_type": "code",
      "metadata": {
        "id": "JWpBKFTceDlb",
        "outputId": "05a40b1c-71e1-45a1-da05-a67cc7a6db17",
        "colab": {
          "base_uri": "https://localhost:8080/",
          "height": 173
        }
      },
      "source": [
        "dfmontharea[['Highest no of month sales','Max_Sales']]"
      ],
      "execution_count": 223,
      "outputs": [
        {
          "output_type": "execute_result",
          "data": {
            "text/html": [
              "<div>\n",
              "<style scoped>\n",
              "    .dataframe tbody tr th:only-of-type {\n",
              "        vertical-align: middle;\n",
              "    }\n",
              "\n",
              "    .dataframe tbody tr th {\n",
              "        vertical-align: top;\n",
              "    }\n",
              "\n",
              "    .dataframe thead th {\n",
              "        text-align: right;\n",
              "    }\n",
              "</style>\n",
              "<table border=\"1\" class=\"dataframe\">\n",
              "  <thead>\n",
              "    <tr style=\"text-align: right;\">\n",
              "      <th>Area</th>\n",
              "      <th>Highest no of month sales</th>\n",
              "      <th>Max_Sales</th>\n",
              "    </tr>\n",
              "    <tr>\n",
              "      <th>month</th>\n",
              "      <th></th>\n",
              "      <th></th>\n",
              "    </tr>\n",
              "  </thead>\n",
              "  <tbody>\n",
              "    <tr>\n",
              "      <th>4</th>\n",
              "      <td>Kilifi</td>\n",
              "      <td>2249.0</td>\n",
              "    </tr>\n",
              "    <tr>\n",
              "      <th>5</th>\n",
              "      <td>Kilifi</td>\n",
              "      <td>2292.0</td>\n",
              "    </tr>\n",
              "    <tr>\n",
              "      <th>6</th>\n",
              "      <td>Kilifi</td>\n",
              "      <td>1664.0</td>\n",
              "    </tr>\n",
              "  </tbody>\n",
              "</table>\n",
              "</div>"
            ],
            "text/plain": [
              "Area  Highest no of month sales  Max_Sales\n",
              "month                                     \n",
              "4                        Kilifi     2249.0\n",
              "5                        Kilifi     2292.0\n",
              "6                        Kilifi     1664.0"
            ]
          },
          "metadata": {
            "tags": []
          },
          "execution_count": 223
        }
      ]
    },
    {
      "cell_type": "code",
      "metadata": {
        "id": "0Ucy5AmOhvR5",
        "outputId": "7a1fcf42-5145-40e8-d831-d51c46b6f928",
        "colab": {
          "base_uri": "https://localhost:8080/",
          "height": 173
        }
      },
      "source": [
        "dfmontharea[[\"Max_Sales\",'Highest no of month sales']]"
      ],
      "execution_count": 227,
      "outputs": [
        {
          "output_type": "execute_result",
          "data": {
            "text/html": [
              "<div>\n",
              "<style scoped>\n",
              "    .dataframe tbody tr th:only-of-type {\n",
              "        vertical-align: middle;\n",
              "    }\n",
              "\n",
              "    .dataframe tbody tr th {\n",
              "        vertical-align: top;\n",
              "    }\n",
              "\n",
              "    .dataframe thead th {\n",
              "        text-align: right;\n",
              "    }\n",
              "</style>\n",
              "<table border=\"1\" class=\"dataframe\">\n",
              "  <thead>\n",
              "    <tr style=\"text-align: right;\">\n",
              "      <th>Area</th>\n",
              "      <th>Max_Sales</th>\n",
              "      <th>Highest no of month sales</th>\n",
              "    </tr>\n",
              "    <tr>\n",
              "      <th>month</th>\n",
              "      <th></th>\n",
              "      <th></th>\n",
              "    </tr>\n",
              "  </thead>\n",
              "  <tbody>\n",
              "    <tr>\n",
              "      <th>4</th>\n",
              "      <td>2249.0</td>\n",
              "      <td>Kilifi</td>\n",
              "    </tr>\n",
              "    <tr>\n",
              "      <th>5</th>\n",
              "      <td>2292.0</td>\n",
              "      <td>Kilifi</td>\n",
              "    </tr>\n",
              "    <tr>\n",
              "      <th>6</th>\n",
              "      <td>1664.0</td>\n",
              "      <td>Kilifi</td>\n",
              "    </tr>\n",
              "  </tbody>\n",
              "</table>\n",
              "</div>"
            ],
            "text/plain": [
              "Area   Max_Sales Highest no of month sales\n",
              "month                                     \n",
              "4         2249.0                    Kilifi\n",
              "5         2292.0                    Kilifi\n",
              "6         1664.0                    Kilifi"
            ]
          },
          "metadata": {
            "tags": []
          },
          "execution_count": 227
        }
      ]
    },
    {
      "cell_type": "markdown",
      "metadata": {
        "id": "mhc9BiDUfDcV"
      },
      "source": [
        "In Summary we can see that the high sales done in the entire 2nd quarter was in Kilifi dominating all the 3 months of 2nd quarter  with a total no of sales in  April of 2249, May  at 2292 and June at 1664."
      ]
    },
    {
      "cell_type": "markdown",
      "metadata": {
        "id": "P8ALx_BF5d3p"
      },
      "source": [
        "**-  3rd Quarter perfomance based on months and area the sales were made**"
      ]
    },
    {
      "cell_type": "markdown",
      "metadata": {
        "id": "1bVYSiZz7SkI"
      },
      "source": [
        "Monthly  Summary on the regional sales and month performance in the 3rd Quarter. The table gives us the maximum no of sales in each area and the maximum no of sales in each month."
      ]
    },
    {
      "cell_type": "code",
      "metadata": {
        "id": "Np_E2ifB5dB_"
      },
      "source": [
        "df2montharea = df3qsales.pivot_table('user_id',index='month',columns='Area',aggfunc= 'count')"
      ],
      "execution_count": 230,
      "outputs": []
    },
    {
      "cell_type": "code",
      "metadata": {
        "id": "dgTENwTX7nn9"
      },
      "source": [
        "# calculate the maximum no of sales in each month and the region that topped.\n",
        "df2montharea['Max_Sales']=df2montharea.max(axis=1,skipna=True)\n",
        "df2montharea['Highest no of month sales']=df2montharea.apply(lambda x : x.idxmax(), axis=1)   "
      ],
      "execution_count": 231,
      "outputs": []
    },
    {
      "cell_type": "code",
      "metadata": {
        "id": "UhNLuJqb8F6e",
        "outputId": "069ed8fc-3f41-46c6-a1af-b692b0410bdf",
        "colab": {
          "base_uri": "https://localhost:8080/",
          "height": 173
        }
      },
      "source": [
        "df2montharea[['Highest no of month sales','Max_Sales']]"
      ],
      "execution_count": 233,
      "outputs": [
        {
          "output_type": "execute_result",
          "data": {
            "text/html": [
              "<div>\n",
              "<style scoped>\n",
              "    .dataframe tbody tr th:only-of-type {\n",
              "        vertical-align: middle;\n",
              "    }\n",
              "\n",
              "    .dataframe tbody tr th {\n",
              "        vertical-align: top;\n",
              "    }\n",
              "\n",
              "    .dataframe thead th {\n",
              "        text-align: right;\n",
              "    }\n",
              "</style>\n",
              "<table border=\"1\" class=\"dataframe\">\n",
              "  <thead>\n",
              "    <tr style=\"text-align: right;\">\n",
              "      <th>Area</th>\n",
              "      <th>Highest no of month sales</th>\n",
              "      <th>Max_Sales</th>\n",
              "    </tr>\n",
              "    <tr>\n",
              "      <th>month</th>\n",
              "      <th></th>\n",
              "      <th></th>\n",
              "    </tr>\n",
              "  </thead>\n",
              "  <tbody>\n",
              "    <tr>\n",
              "      <th>7.0</th>\n",
              "      <td>Kajiado</td>\n",
              "      <td>1.0</td>\n",
              "    </tr>\n",
              "    <tr>\n",
              "      <th>8.0</th>\n",
              "      <td>Kisumu</td>\n",
              "      <td>487.0</td>\n",
              "    </tr>\n",
              "    <tr>\n",
              "      <th>9.0</th>\n",
              "      <td>Kilifi</td>\n",
              "      <td>5293.0</td>\n",
              "    </tr>\n",
              "  </tbody>\n",
              "</table>\n",
              "</div>"
            ],
            "text/plain": [
              "Area  Highest no of month sales  Max_Sales\n",
              "month                                     \n",
              "7.0                     Kajiado        1.0\n",
              "8.0                      Kisumu      487.0\n",
              "9.0                      Kilifi     5293.0"
            ]
          },
          "metadata": {
            "tags": []
          },
          "execution_count": 233
        }
      ]
    },
    {
      "cell_type": "markdown",
      "metadata": {
        "id": "49Z4jwxh8bA9"
      },
      "source": [
        "In Summary on the 3rd quarter we can see that the high sales done  was in Kilifi in september of a total sales of  5293, Kisumu topped in August at 487 sales and Kajiado recorded the highest in July with 1 sale. "
      ]
    },
    {
      "cell_type": "markdown",
      "metadata": {
        "id": "r2mztlg7B_ZE"
      },
      "source": [
        "# <font color = blue /> 1.3 Summary on Sales for both quarters 2nd and 3rd :"
      ]
    },
    {
      "cell_type": "markdown",
      "metadata": {
        "id": "1ZrcCMxZC6__"
      },
      "source": [
        "### 1.3.1 - Combined Performance of in terms of month for both 2nd and 3rd Quarter"
      ]
    },
    {
      "cell_type": "code",
      "metadata": {
        "id": "5OIPmiBd_61u"
      },
      "source": [
        "# combine the 2 dataset 2nd quarter and 3rd quarter.\n",
        "df23=pd.concat([df2qsales, df3qsales])"
      ],
      "execution_count": 243,
      "outputs": []
    },
    {
      "cell_type": "code",
      "metadata": {
        "id": "vCzD0abYBtZg",
        "outputId": "2f048c0b-3132-4933-98fd-f7abd1385443",
        "colab": {
          "base_uri": "https://localhost:8080/",
          "height": 204
        }
      },
      "source": [
        "df23.head()"
      ],
      "execution_count": 244,
      "outputs": [
        {
          "output_type": "execute_result",
          "data": {
            "text/html": [
              "<div>\n",
              "<style scoped>\n",
              "    .dataframe tbody tr th:only-of-type {\n",
              "        vertical-align: middle;\n",
              "    }\n",
              "\n",
              "    .dataframe tbody tr th {\n",
              "        vertical-align: top;\n",
              "    }\n",
              "\n",
              "    .dataframe thead th {\n",
              "        text-align: right;\n",
              "    }\n",
              "</style>\n",
              "<table border=\"1\" class=\"dataframe\">\n",
              "  <thead>\n",
              "    <tr style=\"text-align: right;\">\n",
              "      <th></th>\n",
              "      <th>user_id</th>\n",
              "      <th>registration_date</th>\n",
              "      <th>month</th>\n",
              "      <th>account_number</th>\n",
              "      <th>Area</th>\n",
              "    </tr>\n",
              "  </thead>\n",
              "  <tbody>\n",
              "    <tr>\n",
              "      <th>0</th>\n",
              "      <td>1</td>\n",
              "      <td>24-06-20</td>\n",
              "      <td>6.0</td>\n",
              "      <td>94312253</td>\n",
              "      <td>Akala</td>\n",
              "    </tr>\n",
              "    <tr>\n",
              "      <th>1</th>\n",
              "      <td>1</td>\n",
              "      <td>18-06-20</td>\n",
              "      <td>6.0</td>\n",
              "      <td>93845755</td>\n",
              "      <td>Akala</td>\n",
              "    </tr>\n",
              "    <tr>\n",
              "      <th>2</th>\n",
              "      <td>1</td>\n",
              "      <td>14-06-20</td>\n",
              "      <td>6.0</td>\n",
              "      <td>50839658</td>\n",
              "      <td>Akala</td>\n",
              "    </tr>\n",
              "    <tr>\n",
              "      <th>3</th>\n",
              "      <td>1</td>\n",
              "      <td>11-06-20</td>\n",
              "      <td>6.0</td>\n",
              "      <td>73909669</td>\n",
              "      <td>Akala</td>\n",
              "    </tr>\n",
              "    <tr>\n",
              "      <th>4</th>\n",
              "      <td>1</td>\n",
              "      <td>07-06-20</td>\n",
              "      <td>6.0</td>\n",
              "      <td>65928327</td>\n",
              "      <td>Akala</td>\n",
              "    </tr>\n",
              "  </tbody>\n",
              "</table>\n",
              "</div>"
            ],
            "text/plain": [
              "   user_id registration_date  month  account_number   Area\n",
              "0        1          24-06-20    6.0        94312253  Akala\n",
              "1        1          18-06-20    6.0        93845755  Akala\n",
              "2        1          14-06-20    6.0        50839658  Akala\n",
              "3        1          11-06-20    6.0        73909669  Akala\n",
              "4        1          07-06-20    6.0        65928327  Akala"
            ]
          },
          "metadata": {
            "tags": []
          },
          "execution_count": 244
        }
      ]
    },
    {
      "cell_type": "code",
      "metadata": {
        "id": "CEVv2DdgB62T",
        "outputId": "a53ed83a-3e17-4cc0-92fd-395a582cfe3c",
        "colab": {
          "base_uri": "https://localhost:8080/",
          "height": 356
        }
      },
      "source": [
        "df23.groupby('month')['user_id'].count().plot.bar(figsize=(10,5),\n",
        "                                                  legend= False,\n",
        "                                                  title = \"Combined Result for both 2nd and 3rd Quarter\");"
      ],
      "execution_count": 249,
      "outputs": [
        {
          "output_type": "display_data",
          "data": {
            "image/png": "[encoded data removed]",
            "text/plain": [
              "<Figure size 720x360 with 1 Axes>"
            ]
          },
          "metadata": {
            "tags": [],
            "needs_background": "light"
          }
        }
      ]
    },
    {
      "cell_type": "markdown",
      "metadata": {
        "id": "C8uBGL3v9wmJ"
      },
      "source": [
        "In Summary if we merge the entire sale. based on the earlier graph July was the highest hit sales in the entire 2 and 3rd quarter of 2020. Which can be attributed to external factors:\n",
        "-  Georgraphical mobility was restricted: Due to covid the government restricted the movement of goods and services in and out of 2 major metropolitan areas ie Nairobi and Mombasa.\n",
        "- Economic hardship due to the low economic performance in entire the country due to covid. The spending of individual restricted to basic needs like foods and shelter.\n"
      ]
    },
    {
      "cell_type": "code",
      "metadata": {
        "id": "EpgN519cDpkO"
      },
      "source": [
        ""
      ],
      "execution_count": null,
      "outputs": []
    },
    {
      "cell_type": "markdown",
      "metadata": {
        "id": "5UdELxAtDPEP"
      },
      "source": [
        "### 1.3.2 - Combined Performance of areas in  both 2nd and 3rd Quarter"
      ]
    },
    {
      "cell_type": "code",
      "metadata": {
        "id": "pzTxL2KlDkCX",
        "outputId": "27264d4b-ddbe-4285-c49b-e2c69e720932",
        "colab": {
          "base_uri": "https://localhost:8080/",
          "height": 425
        }
      },
      "source": [
        "df23.groupby('Area')['user_id'].count().sort_values(ascending = False).plot.bar(figsize=(10,5),\n",
        "                                                  legend= False,\n",
        "                                                  title = \"Combined Result for both 2nd and 3rd Quarter\");"
      ],
      "execution_count": 252,
      "outputs": [
        {
          "output_type": "display_data",
          "data": {
            "image/png": "[encoded data removed]",
            "text/plain": [
              "<Figure size 720x360 with 1 Axes>"
            ]
          },
          "metadata": {
            "tags": [],
            "needs_background": "light"
          }
        }
      ]
    },
    {
      "cell_type": "markdown",
      "metadata": {
        "id": "yNaVovKeD_Rx"
      },
      "source": [
        "In Summary the overall perforamce for both quarter the above was the performance with Kilifi topped in sales for the 2 quarter and machakos recording the lowest no of sales."
      ]
    }
  ]
}